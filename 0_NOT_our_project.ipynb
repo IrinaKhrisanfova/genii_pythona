{
 "cells": [
  {
   "cell_type": "markdown",
   "id": "860c359f",
   "metadata": {},
   "source": [
    "## Это наши попытки запарсить изначальные данные"
   ]
  },
  {
   "cell_type": "markdown",
   "id": "e85acc2a",
   "metadata": {},
   "source": [
    "сначала мы парсили сайт bombbar, но там не хватало товаров для анализа данных, их оказалось только 560\n",
    "\n",
    "потом мы пытались парсить livejournal, но там не выдавало статьи из нужного раздела, а потом у нас все получилось с хабр и мы решили взять статьи оттуда)"
   ]
  },
  {
   "cell_type": "code",
   "execution_count": 1,
   "id": "f8a092d1",
   "metadata": {},
   "outputs": [],
   "source": [
    "import requests\n",
    "from bs4 import BeautifulSoup as bs\n",
    "import pandas as pd\n",
    "from collections import defaultdict as dd\n",
    "from tqdm.notebook import tqdm\n",
    "import re"
   ]
  },
  {
   "cell_type": "code",
   "execution_count": 3,
   "id": "3626b8f6",
   "metadata": {},
   "outputs": [
    {
     "data": {
      "text/plain": [
       "<Response [200]>"
      ]
     },
     "execution_count": 3,
     "metadata": {},
     "output_type": "execute_result"
    }
   ],
   "source": [
    "url ='https://www.bombbar.ru/catalog'\n",
    "response=requests.get(url)\n",
    "s=response.content\n",
    "soup = bs(s,'html.parser')\n",
    "response"
   ]
  },
  {
   "cell_type": "code",
   "execution_count": 17,
   "id": "2ec7418c",
   "metadata": {},
   "outputs": [
    {
     "data": {
      "text/plain": [
       "<div class=\"product__name\">\n",
       "<a href=\"https://www.bombbar.ru/product/assorti_batonchikov_shokolade_nachinkoy.html\">Ассорти в молочном шоколаде (20 шт.)</a>\n",
       "</div>"
      ]
     },
     "execution_count": 17,
     "metadata": {},
     "output_type": "execute_result"
    }
   ],
   "source": [
    "item = soup.find_all('div', {'class' : \"product-slide catalog-product\"})\n",
    "item_name = soup.find_all('div', {'class' : \"product__name\"})\n",
    "item_name[2]"
   ]
  },
  {
   "cell_type": "code",
   "execution_count": 15,
   "id": "488a9d98",
   "metadata": {},
   "outputs": [
    {
     "data": {
      "text/plain": [
       "'Ассорти (30 шт.)'"
      ]
     },
     "execution_count": 15,
     "metadata": {},
     "output_type": "execute_result"
    }
   ],
   "source": [
    "item_name[0].text[1:-1]"
   ]
  },
  {
   "cell_type": "code",
   "execution_count": 18,
   "id": "d8e86f37",
   "metadata": {},
   "outputs": [
    {
     "data": {
      "text/plain": [
       "'https://www.bombbar.ru/product/bombbar_batonchik_glazirovanniy_assorti.html'"
      ]
     },
     "execution_count": 18,
     "metadata": {},
     "output_type": "execute_result"
    }
   ],
   "source": [
    "item[0].a.get('href')"
   ]
  },
  {
   "cell_type": "code",
   "execution_count": 31,
   "id": "591ddb74",
   "metadata": {},
   "outputs": [
    {
     "data": {
      "text/html": [
       "<div>\n",
       "<style scoped>\n",
       "    .dataframe tbody tr th:only-of-type {\n",
       "        vertical-align: middle;\n",
       "    }\n",
       "\n",
       "    .dataframe tbody tr th {\n",
       "        vertical-align: top;\n",
       "    }\n",
       "\n",
       "    .dataframe thead th {\n",
       "        text-align: right;\n",
       "    }\n",
       "</style>\n",
       "<table border=\"1\" class=\"dataframe\">\n",
       "  <thead>\n",
       "    <tr style=\"text-align: right;\">\n",
       "      <th></th>\n",
       "      <th>item name</th>\n",
       "    </tr>\n",
       "  </thead>\n",
       "  <tbody>\n",
       "    <tr>\n",
       "      <th>https://www.bombbar.ru/product/bombbar_batonchik_glazirovanniy_assorti.html</th>\n",
       "      <td>Ассорти (30 шт.)</td>\n",
       "    </tr>\n",
       "    <tr>\n",
       "      <th>https://www.bombbar.ru/product/shokoladniy_brauni.html</th>\n",
       "      <td>Шоколадный брауни</td>\n",
       "    </tr>\n",
       "    <tr>\n",
       "      <th>https://www.bombbar.ru/product/assorti_batonchikov_shokolade_nachinkoy.html</th>\n",
       "      <td>Ассорти в молочном шоколаде (20 шт.)</td>\n",
       "    </tr>\n",
       "    <tr>\n",
       "      <th>https://www.bombbar.ru/product/assorti_pechene_40g.html</th>\n",
       "      <td>Ассорти</td>\n",
       "    </tr>\n",
       "    <tr>\n",
       "      <th>https://www.bombbar.ru/product/snaq_fabriq_batonchik_glazirovanniy_assorti.html</th>\n",
       "      <td>Ассорти (30 шт.)</td>\n",
       "    </tr>\n",
       "    <tr>\n",
       "      <th>...</th>\n",
       "      <td>...</td>\n",
       "    </tr>\n",
       "    <tr>\n",
       "      <th>https://www.bombbar.ru/product/ukorochenniy_hudi_tsvet_grafit_46_170_l.html</th>\n",
       "      <td>Графит L(46)</td>\n",
       "    </tr>\n",
       "    <tr>\n",
       "      <th>https://www.bombbar.ru/product/hudi_tsvet_pudra_44_170.html</th>\n",
       "      <td>Пудра M(44)</td>\n",
       "    </tr>\n",
       "    <tr>\n",
       "      <th>https://www.bombbar.ru/product/hudi_tsvet_pudra_42_170.html</th>\n",
       "      <td>Пудра S(42)</td>\n",
       "    </tr>\n",
       "    <tr>\n",
       "      <th>https://www.bombbar.ru/product/hudi_tsvet_pudra_46_170.html</th>\n",
       "      <td>Пудра L(46)</td>\n",
       "    </tr>\n",
       "    <tr>\n",
       "      <th>https://www.bombbar.ru/product/zhenskie_shorti_tipa_velosipedki_artikul_v21_1190005_fioletoviy_razmer_xs_40_170_80_60.html</th>\n",
       "      <td>Фиолетовый XS (40)</td>\n",
       "    </tr>\n",
       "  </tbody>\n",
       "</table>\n",
       "<p>560 rows × 1 columns</p>\n",
       "</div>"
      ],
      "text/plain": [
       "                                                                               item name\n",
       "https://www.bombbar.ru/product/bombbar_batonchi...                      Ассорти (30 шт.)\n",
       "https://www.bombbar.ru/product/shokoladniy_brau...                     Шоколадный брауни\n",
       "https://www.bombbar.ru/product/assorti_batonchi...  Ассорти в молочном шоколаде (20 шт.)\n",
       "https://www.bombbar.ru/product/assorti_pechene_...                               Ассорти\n",
       "https://www.bombbar.ru/product/snaq_fabriq_bato...                      Ассорти (30 шт.)\n",
       "...                                                                                  ...\n",
       "https://www.bombbar.ru/product/ukorochenniy_hud...                          Графит L(46)\n",
       "https://www.bombbar.ru/product/hudi_tsvet_pudra...                           Пудра M(44)\n",
       "https://www.bombbar.ru/product/hudi_tsvet_pudra...                           Пудра S(42)\n",
       "https://www.bombbar.ru/product/hudi_tsvet_pudra...                           Пудра L(46)\n",
       "https://www.bombbar.ru/product/zhenskie_shorti_...                   Фиолетовый XS (40) \n",
       "\n",
       "[560 rows x 1 columns]"
      ]
     },
     "execution_count": 31,
     "metadata": {},
     "output_type": "execute_result"
    }
   ],
   "source": [
    "d = dd(lambda:{})\n",
    "for page in range(1, 20):\n",
    "    #для каждой страницы заменяю номер в ссылке\n",
    "    url = f'https://www.bombbar.ru/catalog?page={page}&sort=7.html'\n",
    "    response = requests.get(url)\n",
    "    soup = bs(response.content, 'html.parser')\n",
    "    #нахожу все товары на странице\n",
    "    items_on_one_page = soup.find_all('div', {'class' : \"product-slide catalog-product\"})\n",
    "    #для каждого товара на странице ищу его ссылку и название, добавляю в словарь\n",
    "    for item in items_on_one_page:\n",
    "        href = item.a.get('href')\n",
    "        name = item.find('div', {'class' : \"product__name\"}).text[1:-1]\n",
    "        d[href] = {'item name':name}\n",
    "#вывожу в удобной форме все товары через pandas\n",
    "pd.DataFrame(d).T"
   ]
  },
  {
   "cell_type": "code",
   "execution_count": null,
   "id": "9ef00979",
   "metadata": {},
   "outputs": [],
   "source": [
    "d = dd(lambda:{})\n",
    "for page in range(1, 20):\n",
    "    #для каждой страницы заменяю номер в ссылке\n",
    "    #url = f'https://stockmann.ru/novelty/60-dlya-doma/?page_list={page}.html'\n",
    "    url = f'https://www.bombbar.ru/catalog?page={page}&sort=7.html'\n",
    "    response = requests.get(url)\n",
    "    soup = bs(response.content, 'html.parser')\n",
    "    #нахожу все товары на странице\n",
    "    items_on_one_page = soup.find_all('div', {'class' : \"product-slide catalog-product\"})\n",
    "    #для каждого товара на странице ищу его ссылку и название, добавляю в словарь\n",
    "    for item in items_on_one_page:\n",
    "        href = item.a.get('href')\n",
    "        name = item.find('div', {'class' : \"product__name\"}).text[1:-1]\n",
    "        d[href] = {'item name':name}\n",
    "#вывожу в удобной форме все товары через pandas\n",
    "pd.DataFrame(d).T"
   ]
  },
  {
   "cell_type": "code",
   "execution_count": null,
   "id": "fb065b7f",
   "metadata": {},
   "outputs": [],
   "source": [
    "<button class=\"catalog-btn product-catalog__btn btn js-click-btn-load-nomenclature\" data-loadpage=\"6\" data-href=\"?page=6\">\n",
    "                        <span class=\"js-spinner-btn-content\">Показать ещё</span>\n",
    "                        <div class=\"spinner spinner--dark js-spinner-registration\">\n",
    "                            <svg width=\"16\" height=\"16\" viewBox=\"0 0 16 16\" fill=\"none\" xmlns=\"http://www.w3.org/2000/svg\">\n",
    "                                <circle cx=\"8\" cy=\"8\" r=\"7\" stroke-dasharray=\"40 1 3 1 2 1 1 \" stroke-width=\"2\"></circle>\n",
    "                            </svg>\n",
    "                        </div>\n",
    "                    </button>"
   ]
  },
  {
   "cell_type": "code",
   "execution_count": 35,
   "id": "43d03715",
   "metadata": {},
   "outputs": [
    {
     "data": {
      "text/plain": [
       "<Response [200]>"
      ]
     },
     "execution_count": 35,
     "metadata": {},
     "output_type": "execute_result"
    }
   ],
   "source": [
    "url ='https://www.wildberries.ru/catalog/sport/sportivnoe-pitanie-i-kosmetika/pitanie-i-krasota'\n",
    "response=requests.get(url)\n",
    "s=response.content\n",
    "soup = bs(s,'html.parser')\n",
    "response"
   ]
  },
  {
   "cell_type": "code",
   "execution_count": 41,
   "id": "8b9992fc",
   "metadata": {},
   "outputs": [
    {
     "data": {
      "text/plain": [
       "[]"
      ]
     },
     "execution_count": 41,
     "metadata": {},
     "output_type": "execute_result"
    }
   ],
   "source": [
    "item = soup.find_all('div', {'class' : \"product-card__wrapper\"})\n",
    "item_name = soup.find_all('div', {'class' : \"product-card__brand\"})\n",
    "#проверю соответствие товаров на 1 странице\n",
    "item_name"
   ]
  },
  {
   "cell_type": "code",
   "execution_count": null,
   "id": "9ebbcb15",
   "metadata": {},
   "outputs": [],
   "source": [
    "<div class=\"product-card__brand\">                                <script type=\"jsv#42254_\"></script>                                    <div class=\"product-card__price price j-cataloger-price\">                                        <span class=\"price__wrap\">                                                                                        <script type=\"jsv#42255_\"></script>                                                <ins class=\"price__lower-price\">                                                    1&nbsp;337&nbsp;₽                                                </ins>                                                <del>2&nbsp;100&nbsp;₽</del>                                            <script type=\"jsv/42255_\"></script>                                        </span>                                                                            </div>                                <script type=\"jsv/42254_\"></script>                                <p class=\"product-card__brand-name\">                                    <span class=\"brand-name\">Impala BIO</span>                                    <span class=\"goods-name\"><span class=\"\"> / </span>Лизин против орви и герпеса</span>                                </p>                            </div>"
   ]
  },
  {
   "cell_type": "code",
   "execution_count": 7,
   "id": "eef44369",
   "metadata": {},
   "outputs": [
    {
     "data": {
      "text/plain": [
       "<Response [200]>"
      ]
     },
     "execution_count": 7,
     "metadata": {},
     "output_type": "execute_result"
    }
   ],
   "source": [
    "url ='https://sbermegamarket.ru/catalog/proteinovye-batonchiki/'\n",
    "response=requests.get(url)\n",
    "s=response.content\n",
    "soup = bs(s,'html.parser')\n",
    "response"
   ]
  },
  {
   "cell_type": "code",
   "execution_count": 11,
   "id": "52db5c62",
   "metadata": {},
   "outputs": [
    {
     "data": {
      "text/plain": [
       "[]"
      ]
     },
     "execution_count": 11,
     "metadata": {},
     "output_type": "execute_result"
    }
   ],
   "source": [
    "item = soup.find_all('div', {'class' : \"catalog-item ddl_product\"})\n",
    "item_name = soup.find_all('div', {'class' : \"item-block\"})\n",
    "item_name"
   ]
  },
  {
   "cell_type": "code",
   "execution_count": 10,
   "id": "0cc11469",
   "metadata": {},
   "outputs": [
    {
     "data": {
      "text/plain": [
       "[]"
      ]
     },
     "execution_count": 10,
     "metadata": {},
     "output_type": "execute_result"
    }
   ],
   "source": [
    "item"
   ]
  },
  {
   "cell_type": "code",
   "execution_count": 115,
   "id": "ace12caa",
   "metadata": {},
   "outputs": [],
   "source": [
    "import requests\n",
    "from bs4 import BeautifulSoup as bs\n",
    "import pandas as pd\n",
    "from collections import defaultdict as dd\n",
    "from tqdm.notebook import tqdm\n",
    "import re"
   ]
  },
  {
   "cell_type": "code",
   "execution_count": 56,
   "id": "0b3e181e",
   "metadata": {},
   "outputs": [
    {
     "data": {
      "text/plain": [
       "<Response [200]>"
      ]
     },
     "execution_count": 56,
     "metadata": {},
     "output_type": "execute_result"
    }
   ],
   "source": [
    "url ='https://www.livejournal.com/category/puteshestviya/'\n",
    "response=requests.get(url)\n",
    "soup = bs(response.content,'html.parser')\n",
    "response"
   ]
  },
  {
   "cell_type": "code",
   "execution_count": 57,
   "id": "7c287adf",
   "metadata": {},
   "outputs": [
    {
     "data": {
      "text/plain": [
       "<title>Блоги о путешествиях и самостоятельном туризме — Живой Журнал — ЖЖ</title>"
      ]
     },
     "execution_count": 57,
     "metadata": {},
     "output_type": "execute_result"
    }
   ],
   "source": [
    "soup.html.head.title"
   ]
  },
  {
   "cell_type": "code",
   "execution_count": 75,
   "id": "c42f07d2",
   "metadata": {},
   "outputs": [
    {
     "data": {
      "text/plain": [
       "[]"
      ]
     },
     "execution_count": 75,
     "metadata": {},
     "output_type": "execute_result"
    }
   ],
   "source": [
    "soup.find_all('div', {'class' : \"post-card__wrap\"})"
   ]
  },
  {
   "cell_type": "code",
   "execution_count": 74,
   "id": "2b80682a",
   "metadata": {},
   "outputs": [
    {
     "data": {
      "text/plain": [
       "[]"
      ]
     },
     "execution_count": 74,
     "metadata": {},
     "output_type": "execute_result"
    }
   ],
   "source": [
    "al = soup.find_all('div', {'class' : 'cat-widget__adv-container ng-scope'})\n",
    "al"
   ]
  },
  {
   "cell_type": "code",
   "execution_count": 72,
   "id": "ecb74aa0",
   "metadata": {},
   "outputs": [],
   "source": [
    "al[0].find('div', {'class' : \"cat-widget__adv-container ng-scope\"})"
   ]
  },
  {
   "cell_type": "code",
   "execution_count": 59,
   "id": "6b846d5a",
   "metadata": {},
   "outputs": [
    {
     "ename": "IndexError",
     "evalue": "list index out of range",
     "output_type": "error",
     "traceback": [
      "\u001b[0;31m---------------------------------------------------------------------------\u001b[0m",
      "\u001b[0;31mIndexError\u001b[0m                                Traceback (most recent call last)",
      "\u001b[0;32m/var/folders/0y/6ln6jjhn0y911z4pmjhdwdwh0000gn/T/ipykernel_6208/2828770304.py\u001b[0m in \u001b[0;36m<module>\u001b[0;34m\u001b[0m\n\u001b[1;32m      1\u001b[0m \u001b[0marticles\u001b[0m \u001b[0;34m=\u001b[0m \u001b[0msoup\u001b[0m\u001b[0;34m.\u001b[0m\u001b[0mfind_all\u001b[0m\u001b[0;34m(\u001b[0m\u001b[0;34m'article'\u001b[0m\u001b[0;34m,\u001b[0m \u001b[0;34m{\u001b[0m\u001b[0;34m'class'\u001b[0m \u001b[0;34m:\u001b[0m \u001b[0;34m'post-card     post-card--vertical     post-card--      post-card--image'\u001b[0m\u001b[0;34m}\u001b[0m\u001b[0;34m)\u001b[0m\u001b[0;34m\u001b[0m\u001b[0;34m\u001b[0m\u001b[0m\n\u001b[0;32m----> 2\u001b[0;31m \u001b[0marticles\u001b[0m\u001b[0;34m[\u001b[0m\u001b[0;36m0\u001b[0m\u001b[0;34m]\u001b[0m\u001b[0;34m\u001b[0m\u001b[0;34m\u001b[0m\u001b[0m\n\u001b[0m",
      "\u001b[0;31mIndexError\u001b[0m: list index out of range"
     ]
    }
   ],
   "source": [
    "articles = soup.find_all('article', {'class' : 'post-card     post-card--vertical     post-card--      post-card--image'})\n",
    "articles[0]"
   ]
  },
  {
   "cell_type": "code",
   "execution_count": 100,
   "id": "a0ce5089",
   "metadata": {},
   "outputs": [
    {
     "data": {
      "text/plain": [
       "<Response [200]>"
      ]
     },
     "execution_count": 100,
     "metadata": {},
     "output_type": "execute_result"
    }
   ],
   "source": [
    "url ='https://www.livejournal.com/media/feed/'\n",
    "response=requests.get(url)\n",
    "soup = bs(response.content,'html.parser')\n",
    "response"
   ]
  },
  {
   "cell_type": "code",
   "execution_count": 101,
   "id": "7b1fdffb",
   "metadata": {},
   "outputs": [
    {
     "data": {
      "text/plain": [
       "<title>ЖЖ рекомендует — ЖЖ</title>"
      ]
     },
     "execution_count": 101,
     "metadata": {},
     "output_type": "execute_result"
    }
   ],
   "source": [
    "soup.html.head.title"
   ]
  },
  {
   "cell_type": "code",
   "execution_count": 107,
   "id": "c7c98cc9",
   "metadata": {},
   "outputs": [
    {
     "data": {
      "text/plain": [
       "[]"
      ]
     },
     "execution_count": 107,
     "metadata": {},
     "output_type": "execute_result"
    }
   ],
   "source": [
    "article = soup.find_all('div', {'class' : \"cat-widget__row ng-scope\"})\n",
    "article"
   ]
  },
  {
   "cell_type": "code",
   "execution_count": 108,
   "id": "c0229ffc",
   "metadata": {},
   "outputs": [
    {
     "data": {
      "text/plain": [
       "[]"
      ]
     },
     "execution_count": 108,
     "metadata": {},
     "output_type": "execute_result"
    }
   ],
   "source": [
    "soup.find_all('h3', {'class' : \"post-card__title\"})"
   ]
  },
  {
   "cell_type": "code",
   "execution_count": 111,
   "id": "979e4717",
   "metadata": {},
   "outputs": [
    {
     "data": {
      "text/plain": [
       "<Response [200]>"
      ]
     },
     "execution_count": 111,
     "metadata": {},
     "output_type": "execute_result"
    }
   ],
   "source": [
    "url ='https://www.livejournal.com/'\n",
    "response=requests.get(url)\n",
    "soup = bs(response.content,'html.parser')\n",
    "response"
   ]
  },
  {
   "cell_type": "code",
   "execution_count": 114,
   "id": "7fe12c62",
   "metadata": {},
   "outputs": [
    {
     "data": {
      "text/plain": [
       "'\\n\\n\\n\\n\\n\\n\\n\\n              lj_telegram\\n            \\n\\n\\n\\n\\n\\n\\n\\n\\n\\n\\n\\n          \\n            Первый парад Победы на Красной Площади. Как это было\\n          \\n        \\n\\n\\n          \\n            Занимательные факты о параде 24 июня 1945 года в новом видео\\n          \\n        \\n\\n\\n\\n\\n\\n\\n\\n\\n\\n1\\n\\n\\n\\n\\n\\n1\\n\\n\\n\\n\\n'"
      ]
     },
     "execution_count": 114,
     "metadata": {},
     "output_type": "execute_result"
    }
   ],
   "source": [
    "article = soup.find_all('div', {'class' : \"post-card__wrap\"})\n",
    "article[0].text"
   ]
  },
  {
   "cell_type": "code",
   "execution_count": 116,
   "id": "bf124fa9",
   "metadata": {},
   "outputs": [
    {
     "data": {
      "text/plain": [
       "<Response [200]>"
      ]
     },
     "execution_count": 116,
     "metadata": {},
     "output_type": "execute_result"
    }
   ],
   "source": [
    "url ='https://www.livejournal.com/'\n",
    "response=requests.get(url)\n",
    "soup = bs(response.content,'html.parser')\n",
    "response"
   ]
  },
  {
   "cell_type": "code",
   "execution_count": 119,
   "id": "21bc62f5",
   "metadata": {},
   "outputs": [
    {
     "data": {
      "text/plain": [
       "'\\n\\n\\n\\n\\n\\n\\n\\n              art_and_fun\\n            \\n\\n\\n\\n\\n\\n\\n\\n\\n\\n\\n\\n          \\n            Сказочные портреты Анастасии Добровольской: 10 фото\\n          \\n        \\n\\n\\n          \\n            Все её работы посвящены связи человека с природой и красоте вне стереотипов\\n          \\n        \\n\\n\\n\\n\\n\\n\\n\\n\\n\\n7\\n\\n\\n\\n\\n\\n1\\n\\n\\n\\n\\n'"
      ]
     },
     "execution_count": 119,
     "metadata": {},
     "output_type": "execute_result"
    }
   ],
   "source": [
    "article = soup.find_all('div', {'class' : \"post-card__wrap\"})\n",
    "article[0].text"
   ]
  },
  {
   "cell_type": "code",
   "execution_count": 123,
   "id": "2a7184ca",
   "metadata": {},
   "outputs": [
    {
     "data": {
      "text/plain": [
       "[<h3 class=\"post-card__title\">\n",
       "           \n",
       "             Сказочные портреты Анастасии Добровольской: 10 фото\n",
       "           \n",
       "         </h3>,\n",
       " <h3 class=\"post-card__title\">\n",
       "           \n",
       "             Самолет-амфибия тушит пожары на Урале\n",
       "           \n",
       "         </h3>,\n",
       " <h3 class=\"post-card__title\">\n",
       "           \n",
       "             Бородинский хлеб придумали в СССР?\n",
       "           \n",
       "         </h3>,\n",
       " <h3 class=\"post-card__title\">\n",
       "           \n",
       "             Де Ниро в 79 лет стал отцом в 7-й раз\n",
       "           \n",
       "         </h3>,\n",
       " <h3 class=\"post-card__title\">\n",
       "           \n",
       "             Осторожно: котики! И не только\n",
       "           \n",
       "         </h3>,\n",
       " <h3 class=\"post-card__title\">\n",
       "           \n",
       "             Непальский разогрев\n",
       "           \n",
       "         </h3>,\n",
       " <h3 class=\"post-card__title\">\n",
       "           \n",
       "             Баллада о двух бабушках\n",
       "           \n",
       "         </h3>]"
      ]
     },
     "execution_count": 123,
     "metadata": {},
     "output_type": "execute_result"
    }
   ],
   "source": [
    "soup.find_all('h3', {'class' : \"post-card__title\"})"
   ]
  },
  {
   "cell_type": "code",
   "execution_count": 2,
   "id": "52112315",
   "metadata": {},
   "outputs": [
    {
     "data": {
      "text/plain": [
       "<Response [200]>"
      ]
     },
     "execution_count": 2,
     "metadata": {},
     "output_type": "execute_result"
    }
   ],
   "source": [
    "url ='https://habr.com/ru/flows/develop/'\n",
    "response=requests.get(url)\n",
    "s=response.content\n",
    "soup = bs(s,'html.parser')\n",
    "response"
   ]
  },
  {
   "cell_type": "code",
   "execution_count": 6,
   "id": "323558a1",
   "metadata": {},
   "outputs": [
    {
     "data": {
      "text/plain": [
       "'Поговорим об NGFW'"
      ]
     },
     "execution_count": 6,
     "metadata": {},
     "output_type": "execute_result"
    }
   ],
   "source": [
    "item = soup.find_all('div', {'class' : \"tm-article-snippet tm-article-snippet\"})\n",
    "item_name = soup.find_all('h2', {'class' : \"tm-title tm-title_h2\"})\n",
    "item_name[3].text"
   ]
  },
  {
   "cell_type": "code",
   "execution_count": 8,
   "id": "7c820576",
   "metadata": {},
   "outputs": [
    {
     "data": {
      "text/plain": [
       "<div class=\"tm-article-snippet tm-article-snippet\"><div class=\"tm-article-snippet__meta-container\"><div class=\"tm-article-snippet__meta\"><span class=\"tm-user-info tm-article-snippet__author\"><a class=\"tm-user-info__userpic\" href=\"/ru/users/Andrey_Biryukov/\" title=\"Andrey_Biryukov\"><div class=\"tm-entity-image\"><svg class=\"tm-svg-img tm-image-placeholder tm-image-placeholder_pink\" height=\"32\" width=\"32\"><!-- --> <use xlink:href=\"/img/megazord-v28.261cd701..svg#placeholder-user\"></use></svg></div></a> <span class=\"tm-user-info__user tm-user-info__user_appearance-default\"><a class=\"tm-user-info__username\" href=\"/ru/users/Andrey_Biryukov/\">\n",
       "      Andrey_Biryukov\n",
       "      <!-- --></a> <span class=\"tm-article-datetime-published\"><time datetime=\"2023-05-12T15:19:21.000Z\" title=\"2023-05-12, 18:19\">4 часа назад</time></span></span></span></div> <!-- --></div> <h2 class=\"tm-title tm-title_h2\"><a class=\"tm-title__link\" data-article-link=\"true\" data-test-id=\"article-snippet-title-link\" href=\"/ru/companies/otus/articles/734770/\"><span>Поговорим об NGFW</span></a></h2> <div class=\"tm-article-snippet__stats\"><!-- --> <div class=\"tm-article-reading-time\"><span class=\"tm-svg-icon__wrapper tm-article-reading-time__icon\"><svg class=\"tm-svg-img tm-svg-icon\" height=\"24\" width=\"24\"><title>Время на прочтение</title> <use xlink:href=\"/img/megazord-v28.261cd701..svg#clock\"></use></svg></span> <span class=\"tm-article-reading-time__label\">\n",
       "    6 мин\n",
       "  </span></div> <span class=\"tm-icon-counter tm-data-icons__item\"><svg class=\"tm-svg-img tm-icon-counter__icon\" height=\"24\" width=\"24\"><title>Количество просмотров</title> <use xlink:href=\"/img/megazord-v28.261cd701..svg#counter-views\"></use></svg> <span class=\"tm-icon-counter__value\">773</span></span></div> <!-- --> <!-- --> <!-- --> <!-- --></div>"
      ]
     },
     "execution_count": 8,
     "metadata": {},
     "output_type": "execute_result"
    }
   ],
   "source": []
  },
  {
   "cell_type": "code",
   "execution_count": null,
   "id": "e0eaaf7d",
   "metadata": {},
   "outputs": [],
   "source": [
    "<h2 class=\"tm-title tm-title_h2\"><a href=\"/ru/companies/astralinux/articles/734788/\" class=\"tm-title__link\" data-test-id=\"article-snippet-title-link\" data-article-link=\"true\"><span>Одна миграция подобна двум пожарам: двусторонние трасты с AD DS и реализация глобального каталога в ALD Pro</span></a></h2>"
   ]
  },
  {
   "cell_type": "code",
   "execution_count": null,
   "id": "948f9e28",
   "metadata": {},
   "outputs": [],
   "source": [
    "<div class=\"tm-article-snippet tm-article-snippet\"><div class=\"tm-article-snippet__meta-container\"><div class=\"tm-article-snippet__meta\"><span class=\"tm-user-info tm-article-snippet__author\"><a href=\"/ru/users/AstraLinux_Group/\" class=\"tm-user-info__userpic\" title=\"AstraLinux_Group\"><div class=\"tm-entity-image\"><img alt=\"\" height=\"32\" src=\"//habrastorage.org/r/w64/getpro/habr/avatars/845/13b/8aa/84513b8aa8678d10b7e19e9a3ceefb95.png\" width=\"32\" class=\"tm-entity-image__pic\"></div></a> <span class=\"tm-user-info__user tm-user-info__user_appearance-default\"><a href=\"/ru/users/AstraLinux_Group/\" class=\"tm-user-info__username\">\n",
    "      AstraLinux_Group\n",
    "      <!----></a> <span class=\"tm-article-datetime-published\"><time datetime=\"2023-05-12T15:24:49.000Z\" title=\"2023-05-12, 18:24\">4 часа назад</time></span></span></span></div> <!----></div> <h2 class=\"tm-title tm-title_h2\"><a href=\"/ru/companies/astralinux/articles/734788/\" class=\"tm-title__link\" data-test-id=\"article-snippet-title-link\" data-article-link=\"true\"><span>Одна миграция подобна двум пожарам: двусторонние трасты с AD DS и реализация глобального каталога в ALD Pro</span></a></h2> <div class=\"tm-article-snippet__stats\"><!----> <div class=\"tm-article-reading-time\"><span class=\"tm-svg-icon__wrapper tm-article-reading-time__icon\"><svg height=\"24\" width=\"24\" class=\"tm-svg-img tm-svg-icon\"><title>Время на прочтение</title> <use xlink:href=\"/img/megazord-v28.261cd701..svg#clock\"></use></svg></span> <span class=\"tm-article-reading-time__label\">\n",
    "    7 мин\n",
    "  </span></div> <span class=\"tm-icon-counter tm-data-icons__item\"><svg height=\"24\" width=\"24\" class=\"tm-svg-img tm-icon-counter__icon\"><title>Количество просмотров</title> <use xlink:href=\"/img/megazord-v28.261cd701..svg#counter-views\"></use></svg> <span class=\"tm-icon-counter__value\">847</span></span></div> <div class=\"tm-article-snippet__hubs-container\"><div class=\"tm-article-snippet__hubs\"><span class=\"tm-article-snippet__hubs-item\"><a href=\"/ru/companies/astralinux/articles/\" class=\"tm-article-snippet__hubs-item-link\"><span>Блог компании ГК «Астра»</span> <!----></a></span><span class=\"tm-article-snippet__hubs-item\"><a href=\"/ru/hub/open_source/\" class=\"tm-article-snippet__hubs-item-link\"><span>Open source</span> <span title=\"Профильный хаб\" class=\"tm-article-snippet__profiled-hub\">*</span></a></span><span class=\"tm-article-snippet__hubs-item\"><a href=\"/ru/hub/it-infrastructure/\" class=\"tm-article-snippet__hubs-item-link\"><span>IT-инфраструктура</span> <span title=\"Профильный хаб\" class=\"tm-article-snippet__profiled-hub\">*</span></a></span><span class=\"tm-article-snippet__hubs-item\"><a href=\"/ru/hub/soft/\" class=\"tm-article-snippet__hubs-item-link\"><span>Софт</span> <!----></a></span><span class=\"tm-article-snippet__hubs-item\"><a href=\"/ru/hub/itcompanies/\" class=\"tm-article-snippet__hubs-item-link\"><span>IT-компании</span> <!----></a></span></div></div> <!----> <!----> <div class=\"tm-article-body tm-article-snippet__lead\"><div class=\"tm-article-snippet__cover tm-article-snippet__cover_cover\"><img src=\"http://habrastorage.org/r/w1560/getpro/habr/upload_files/36d/d5a/e24/36dd5ae24831264356edbd86b2e0c8b5.png\" class=\"tm-article-snippet__lead-image\" style=\"object-position: 0% 0%;\"></div> <div><div><div class=\"article-formatted-body article-formatted-body article-formatted-body_version-2\"><p>В настоящее время многие компании задумываются над миграцией в Linux инфраструктуру и вместо Microsoft AD DS планируют использовать службу каталога с открытым исходным кодом FreeIPA или более функциональные решения на ее основе, такие как ALD Pro. Но сколь бы ни были амбициозны планы по миграции, перевести сразу все сервисы и все рабочие места на Linux может оказаться непосильной задачей даже для очень сильных команд, поэтому ИТ-директора крайне внимательно присматриваются к возможностям по развертыванию гибридной среды, и одним из ключевых инструментов такого развертывания является механизм доверительных отношений.&nbsp;</p><p>В данной статье мы объясним наиболее принципиальные аспекты работы доверительных отношений FreeIPA - AD DS, расскажем зачем нужен модуль глобального каталога в ALD Pro, и поделимся несколькими наработками, которые помогут вам, если в вашей инфраструктуре пока еще используется ванильная система FreeIPA.</p><p></p></div></div> <div class=\"v-portal\" style=\"display: none;\"></div> <div class=\"v-portal\" style=\"display: none;\"></div></div> <a href=\"/ru/companies/astralinux/articles/734788/\" class=\"tm-article-snippet__readmore\"><span>Читать далее</span></a></div></div>"
   ]
  }
 ],
 "metadata": {
  "kernelspec": {
   "display_name": "Python 3 (ipykernel)",
   "language": "python",
   "name": "python3"
  },
  "language_info": {
   "codemirror_mode": {
    "name": "ipython",
    "version": 3
   },
   "file_extension": ".py",
   "mimetype": "text/x-python",
   "name": "python",
   "nbconvert_exporter": "python",
   "pygments_lexer": "ipython3",
   "version": "3.9.7"
  }
 },
 "nbformat": 4,
 "nbformat_minor": 5
}
