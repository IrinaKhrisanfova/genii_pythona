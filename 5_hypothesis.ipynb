{
 "cells": [
  {
   "cell_type": "code",
   "execution_count": 18,
   "id": "522bff16",
   "metadata": {},
   "outputs": [],
   "source": [
    "import numpy as np\n",
    "import pandas as pd\n",
    "\n",
    "from scipy import stats as sts\n",
    "\n",
    "import seaborn as sns\n",
    "import matplotlib.pyplot as plt"
   ]
  },
  {
   "cell_type": "code",
   "execution_count": 28,
   "id": "25ae17d6",
   "metadata": {},
   "outputs": [],
   "source": [
    "df = pd.read_csv('4_new_features1.csv')"
   ]
  },
  {
   "cell_type": "code",
   "execution_count": 119,
   "id": "b36047ec",
   "metadata": {
    "scrolled": true
   },
   "outputs": [
    {
     "data": {
      "text/html": [
       "<div>\n",
       "<style scoped>\n",
       "    .dataframe tbody tr th:only-of-type {\n",
       "        vertical-align: middle;\n",
       "    }\n",
       "\n",
       "    .dataframe tbody tr th {\n",
       "        vertical-align: top;\n",
       "    }\n",
       "\n",
       "    .dataframe thead th {\n",
       "        text-align: right;\n",
       "    }\n",
       "</style>\n",
       "<table border=\"1\" class=\"dataframe\">\n",
       "  <thead>\n",
       "    <tr style=\"text-align: right;\">\n",
       "      <th></th>\n",
       "      <th>Unnamed: 0</th>\n",
       "      <th>Unnamed: 0.1</th>\n",
       "      <th>item name</th>\n",
       "      <th>Время чтения</th>\n",
       "      <th>Сложность</th>\n",
       "      <th>Количество просмотров</th>\n",
       "      <th>В закладках</th>\n",
       "      <th>Комментарии</th>\n",
       "      <th>Автор</th>\n",
       "      <th>Рейтинг автора</th>\n",
       "      <th>Время публикации</th>\n",
       "      <th>Savings_per_Views</th>\n",
       "      <th>norm_ReadingTime</th>\n",
       "      <th>hour</th>\n",
       "    </tr>\n",
       "  </thead>\n",
       "  <tbody>\n",
       "    <tr>\n",
       "      <th>0</th>\n",
       "      <td>0</td>\n",
       "      <td>0</td>\n",
       "      <td>Мультяшная графика продаётся лучше реалистично...</td>\n",
       "      <td>8</td>\n",
       "      <td>2</td>\n",
       "      <td>324.0</td>\n",
       "      <td>1</td>\n",
       "      <td>1</td>\n",
       "      <td>@Kallist</td>\n",
       "      <td>0.0</td>\n",
       "      <td>2023-05-13 19:20:00</td>\n",
       "      <td>0.003086</td>\n",
       "      <td>0.084337</td>\n",
       "      <td>19</td>\n",
       "    </tr>\n",
       "    <tr>\n",
       "      <th>1</th>\n",
       "      <td>1</td>\n",
       "      <td>1</td>\n",
       "      <td>Picture in Picture Mode в android. Показываем ...</td>\n",
       "      <td>5</td>\n",
       "      <td>1</td>\n",
       "      <td>122.0</td>\n",
       "      <td>3</td>\n",
       "      <td>0</td>\n",
       "      <td>@cookie2727</td>\n",
       "      <td>0.0</td>\n",
       "      <td>2023-05-13 18:55:00</td>\n",
       "      <td>0.024590</td>\n",
       "      <td>0.048193</td>\n",
       "      <td>18</td>\n",
       "    </tr>\n",
       "    <tr>\n",
       "      <th>2</th>\n",
       "      <td>2</td>\n",
       "      <td>2</td>\n",
       "      <td>Много нас, а GPU один. Как делиться?</td>\n",
       "      <td>6</td>\n",
       "      <td>1</td>\n",
       "      <td>1600.0</td>\n",
       "      <td>5</td>\n",
       "      <td>6</td>\n",
       "      <td>@Antra</td>\n",
       "      <td>6.1</td>\n",
       "      <td>2023-05-13 17:57:00</td>\n",
       "      <td>0.003125</td>\n",
       "      <td>0.060241</td>\n",
       "      <td>17</td>\n",
       "    </tr>\n",
       "    <tr>\n",
       "      <th>3</th>\n",
       "      <td>3</td>\n",
       "      <td>3</td>\n",
       "      <td>Ближайшие бесплатные мероприятия по разработке...</td>\n",
       "      <td>2</td>\n",
       "      <td>1</td>\n",
       "      <td>376.0</td>\n",
       "      <td>1</td>\n",
       "      <td>0</td>\n",
       "      <td>@ITMeeting</td>\n",
       "      <td>-0.8</td>\n",
       "      <td>2023-05-13 16:27:00</td>\n",
       "      <td>0.002660</td>\n",
       "      <td>0.012048</td>\n",
       "      <td>16</td>\n",
       "    </tr>\n",
       "    <tr>\n",
       "      <th>4</th>\n",
       "      <td>4</td>\n",
       "      <td>4</td>\n",
       "      <td>Одноплатник Orange Pi 5 Plus: характеристики и...</td>\n",
       "      <td>4</td>\n",
       "      <td>,</td>\n",
       "      <td>3500.0</td>\n",
       "      <td>6</td>\n",
       "      <td>13</td>\n",
       "      <td>@Seleditor</td>\n",
       "      <td>49.0</td>\n",
       "      <td>2023-05-13 12:55:00</td>\n",
       "      <td>0.001714</td>\n",
       "      <td>0.036145</td>\n",
       "      <td>12</td>\n",
       "    </tr>\n",
       "  </tbody>\n",
       "</table>\n",
       "</div>"
      ],
      "text/plain": [
       "   Unnamed: 0  Unnamed: 0.1  \\\n",
       "0           0             0   \n",
       "1           1             1   \n",
       "2           2             2   \n",
       "3           3             3   \n",
       "4           4             4   \n",
       "\n",
       "                                           item name  Время чтения Сложность  \\\n",
       "0  Мультяшная графика продаётся лучше реалистично...             8         2   \n",
       "1  Picture in Picture Mode в android. Показываем ...             5         1   \n",
       "2               Много нас, а GPU один. Как делиться?             6         1   \n",
       "3  Ближайшие бесплатные мероприятия по разработке...             2         1   \n",
       "4  Одноплатник Orange Pi 5 Plus: характеристики и...             4         ,   \n",
       "\n",
       "   Количество просмотров  В закладках  Комментарии        Автор  \\\n",
       "0                  324.0            1            1     @Kallist   \n",
       "1                  122.0            3            0  @cookie2727   \n",
       "2                 1600.0            5            6       @Antra   \n",
       "3                  376.0            1            0   @ITMeeting   \n",
       "4                 3500.0            6           13   @Seleditor   \n",
       "\n",
       "   Рейтинг автора     Время публикации  Savings_per_Views  norm_ReadingTime  \\\n",
       "0             0.0  2023-05-13 19:20:00           0.003086          0.084337   \n",
       "1             0.0  2023-05-13 18:55:00           0.024590          0.048193   \n",
       "2             6.1  2023-05-13 17:57:00           0.003125          0.060241   \n",
       "3            -0.8  2023-05-13 16:27:00           0.002660          0.012048   \n",
       "4            49.0  2023-05-13 12:55:00           0.001714          0.036145   \n",
       "\n",
       "   hour  \n",
       "0    19  \n",
       "1    18  \n",
       "2    17  \n",
       "3    16  \n",
       "4    12  "
      ]
     },
     "execution_count": 119,
     "metadata": {},
     "output_type": "execute_result"
    }
   ],
   "source": [
    "df.head()"
   ]
  },
  {
   "cell_type": "markdown",
   "id": "b5af4984",
   "metadata": {},
   "source": [
    "### Проверка гипотез 1.1"
   ]
  },
  {
   "cell_type": "markdown",
   "id": "1d03b62b",
   "metadata": {},
   "source": [
    "Мы хотим узнать, есть ли разница в ожидаемом количестве сохранений у постов в зависимости от сложности. Визуализация наводила на мысль, что 1 и 2 сложность не отличаются по количеству сохранений. Поэтому мы сравним сначала их, а потом проведем сравнение с 3 сложностью."
   ]
  },
  {
   "cell_type": "code",
   "execution_count": 30,
   "id": "bbad3fb3",
   "metadata": {},
   "outputs": [],
   "source": [
    "easy = df.loc[(df['Сложность'] == '1')]['В закладках'].values\n",
    "medium = df.loc[(df['Сложность'] == '2')]['В закладках'].values\n",
    "hard = df.loc[(df['Сложность'] == '3')]['В закладках'].values"
   ]
  },
  {
   "cell_type": "code",
   "execution_count": 50,
   "id": "8b3d3a89",
   "metadata": {},
   "outputs": [
    {
     "data": {
      "image/png": "[encoded data removed]",
      "text/plain": [
       "<Figure size 648x432 with 1 Axes>"
      ]
     },
     "metadata": {
      "needs_background": "light"
     },
     "output_type": "display_data"
    }
   ],
   "source": [
    "plt.figure(figsize=(9,6))\n",
    "plt.hist(easy, bins=20, density=True, alpha=0.4, label='easy')\n",
    "plt.hist(medium, bins=20, density=True, alpha=0.4, label='medium')\n",
    "plt.hist(hard, bins=20, density=True, alpha=0.4, label='hard')\n",
    "plt.xlabel('Number of saves')\n",
    "plt.ylabel('Density')\n",
    "plt.title('Histograms of number of saves depending on difficulty level')\n",
    "plt.legend();"
   ]
  },
  {
   "cell_type": "code",
   "execution_count": 32,
   "id": "a757b43d",
   "metadata": {},
   "outputs": [
    {
     "name": "stdout",
     "output_type": "stream",
     "text": [
      "33.851351351351354 23.0\n",
      "38.457142857142856 26.0\n",
      "45.47222222222222 47.5\n"
     ]
    }
   ],
   "source": [
    "print(np.mean(easy), np.median(easy))\n",
    "print(np.mean(medium), np.median(medium))\n",
    "print(np.mean(hard), np.median(hard))"
   ]
  },
  {
   "cell_type": "code",
   "execution_count": 38,
   "id": "497106bb",
   "metadata": {},
   "outputs": [
    {
     "data": {
      "text/plain": [
       "36"
      ]
     },
     "execution_count": 38,
     "metadata": {},
     "output_type": "execute_result"
    }
   ],
   "source": [
    "hard.shape[0]"
   ]
  },
  {
   "cell_type": "markdown",
   "id": "d81fee0d",
   "metadata": {},
   "source": [
    "Судя по графику и выборочным средним, 3 сложность обособлена от других двух и имеет в среднем больше сохранений, хотя на это влияет и число наблюдений в выборках. А вот статистическую значимость разницы между матожиданиями 1 и 2 сложности хотелось бы проверить."
   ]
  },
  {
   "cell_type": "markdown",
   "id": "a898d595",
   "metadata": {},
   "source": [
    "Нулевая гипотеза: МО_сл1 = МО_сл2 <br /> Альтернативная гипотеза: МО_сл1 =/= МО_сл2"
   ]
  },
  {
   "cell_type": "markdown",
   "id": "6fdfe398",
   "metadata": {},
   "source": [
    "По гистограммам видно, что выборки не похожи на нормальные. Нам нужна статистика, которая бы подошла для проверки гипотезы о матожиданиях для выборок не из нормального распределения."
   ]
  },
  {
   "cell_type": "markdown",
   "id": "a8260171",
   "metadata": {},
   "source": [
    "Выполняются предпосылки: независимость выборок, большое число наблюдений. Однако есть выбросы. Поэтому воспользуемся бутстрапом. <br /> *(Нас также интересовала доля этих выбросов, чтобы ответить на вопрос о том, посты какой сложности имеют больший потенциал \"выстрелить\". Но это уже совсем другая гипотеза)*"
   ]
  },
  {
   "cell_type": "code",
   "execution_count": 40,
   "id": "866a40f9",
   "metadata": {},
   "outputs": [],
   "source": [
    "def get_bootstrap_sample(x, B_sample=1):\n",
    "    N = x.size \n",
    "    sample = np.random.choice(x, size=(N, B_sample), replace=True)\n",
    "    \n",
    "    if B_sample == 1:\n",
    "        sample = sample.T[0]\n",
    "    return sample"
   ]
  },
  {
   "cell_type": "code",
   "execution_count": 42,
   "id": "c73ce932",
   "metadata": {},
   "outputs": [],
   "source": [
    "def stat_intervals(boot, alpha=0.05):\n",
    "    left = np.quantile(boot, alpha/2)\n",
    "    right = np.quantile(boot, 1-alpha/2)\n",
    "    return left, right"
   ]
  },
  {
   "cell_type": "code",
   "execution_count": 41,
   "id": "6a36f2f0",
   "metadata": {},
   "outputs": [],
   "source": [
    "x_boot = get_bootstrap_sample(easy, B_sample=10**4)\n",
    "x_boot = np.median(x_boot, axis=0)\n",
    "\n",
    "y_boot = get_bootstrap_sample(medium, B_sample=10**4)\n",
    "y_boot = np.median(y_boot, axis=0)"
   ]
  },
  {
   "cell_type": "code",
   "execution_count": 43,
   "id": "04c0f05d",
   "metadata": {
    "scrolled": true
   },
   "outputs": [
    {
     "data": {
      "text/plain": [
       "(21.0, 25.0)"
      ]
     },
     "execution_count": 43,
     "metadata": {},
     "output_type": "execute_result"
    }
   ],
   "source": [
    "stat_intervals(x_boot)"
   ]
  },
  {
   "cell_type": "code",
   "execution_count": 44,
   "id": "31fcbf40",
   "metadata": {},
   "outputs": [
    {
     "data": {
      "text/plain": [
       "(22.0, 30.0)"
      ]
     },
     "execution_count": 44,
     "metadata": {},
     "output_type": "execute_result"
    }
   ],
   "source": [
    "stat_intervals(y_boot)"
   ]
  },
  {
   "cell_type": "code",
   "execution_count": 45,
   "id": "8cb26d9c",
   "metadata": {},
   "outputs": [
    {
     "data": {
      "text/plain": [
       "(-7.5, 1.0)"
      ]
     },
     "execution_count": 45,
     "metadata": {},
     "output_type": "execute_result"
    }
   ],
   "source": [
    "stat_intervals(x_boot - y_boot)"
   ]
  },
  {
   "cell_type": "code",
   "execution_count": 49,
   "id": "e5b9f8e0",
   "metadata": {},
   "outputs": [
    {
     "data": {
      "text/plain": [
       "0.0485"
      ]
     },
     "execution_count": 49,
     "metadata": {},
     "output_type": "execute_result"
    }
   ],
   "source": [
    "np.mean(x_boot - y_boot > 0) # вероятность, что разница будет больше 0"
   ]
  },
  {
   "cell_type": "markdown",
   "id": "53c6e317",
   "metadata": {},
   "source": [
    "Получается, на уровне значимости 5% нет разницы между матожиданием числа сохранений постов 1 сложности и постов 2 сложности"
   ]
  },
  {
   "cell_type": "markdown",
   "id": "2284ecf9",
   "metadata": {},
   "source": [
    "Т.к. у выборки 3 сложности не такое большое количество наблюдений, а распределение вряд ли нормальное, снова воспользуемся бутстрапом"
   ]
  },
  {
   "cell_type": "markdown",
   "id": "32cfca24",
   "metadata": {},
   "source": [
    "Нулевая гипотеза: МО_сл3 = МО_сл1 (и, соответственно, МО_сл2) <br /> Альтернативная гипотеза: МО_сл3 =/= МО_сл1"
   ]
  },
  {
   "cell_type": "code",
   "execution_count": 51,
   "id": "1fbfd296",
   "metadata": {},
   "outputs": [],
   "source": [
    "z_boot = get_bootstrap_sample(hard, B_sample=10**4)\n",
    "z_boot = np.median(z_boot, axis=0)"
   ]
  },
  {
   "cell_type": "code",
   "execution_count": 52,
   "id": "dc5c24ae",
   "metadata": {},
   "outputs": [
    {
     "data": {
      "text/plain": [
       "(30.0, 60.0)"
      ]
     },
     "execution_count": 52,
     "metadata": {},
     "output_type": "execute_result"
    }
   ],
   "source": [
    "stat_intervals(z_boot)"
   ]
  },
  {
   "cell_type": "code",
   "execution_count": 55,
   "id": "392da4db",
   "metadata": {},
   "outputs": [
    {
     "data": {
      "text/plain": [
       "(7.0, 37.5)"
      ]
     },
     "execution_count": 55,
     "metadata": {},
     "output_type": "execute_result"
    }
   ],
   "source": [
    "stat_intervals(z_boot - x_boot)"
   ]
  },
  {
   "cell_type": "code",
   "execution_count": 56,
   "id": "63480797",
   "metadata": {},
   "outputs": [
    {
     "data": {
      "text/plain": [
       "0.9998"
      ]
     },
     "execution_count": 56,
     "metadata": {},
     "output_type": "execute_result"
    }
   ],
   "source": [
    "np.mean(z_boot - x_boot > 0)"
   ]
  },
  {
   "cell_type": "markdown",
   "id": "364c2f6e",
   "metadata": {},
   "source": [
    "Получается, на уровне значимости 5% отвергаем гипотезу о том, что нет разницы между матожиданием числа сохранений постов с 3 сложностью и другими уровнями сложности. Матожидание у 3 сложности больше, чем у других представленных."
   ]
  },
  {
   "cell_type": "markdown",
   "id": "d91346b5",
   "metadata": {},
   "source": [
    "Таким образом, уровень сложности влияет на сохранения, но только если это 3й уровень. Между 1 и 2 нет разницы в матожидании сохранений, а вот 3й в среднем собирает больше сохранений. </br> Вот такой вывод делаем из результатов тестирования гипотез с использованием нашей выборки."
   ]
  },
  {
   "cell_type": "markdown",
   "id": "707d46b7",
   "metadata": {},
   "source": [
    "### Проверка гипотез 1.2"
   ]
  },
  {
   "cell_type": "markdown",
   "id": "60f10879",
   "metadata": {},
   "source": [
    "Попробуем всё-таки проверить гипотезы о долях, чтобы узнать, какая сложность более вероятно может превзойти матожидание, и набрать очень много сохранений, став супер нужной и популярной. Снова понадобится бутстрап по указанным ранее причинам."
   ]
  },
  {
   "cell_type": "markdown",
   "id": "2251fd3e",
   "metadata": {},
   "source": [
    "Нулевая гипотеза: Д_сл1 = Д_сл2 <br /> Альтернативная гипотеза: Д_сл1 > Д_сл2"
   ]
  },
  {
   "cell_type": "code",
   "execution_count": 113,
   "id": "ae79c67a",
   "metadata": {},
   "outputs": [],
   "source": [
    "def stat_razn_dolei(v1, v2, al):\n",
    "    greater1 = np.where(v1 > np.mean(v1), 1, 0)\n",
    "    greater2 = np.where(v2 > np.mean(v2), 1, 0)\n",
    "    d1 = greater1.mean()\n",
    "    d2 = greater2.mean()\n",
    "    razn = d1 - d2\n",
    "    norm_rv = sts.norm()\n",
    "    z_crit = norm_rv.ppf(1 - al)\n",
    "    z_stat = (razn - 0)/np.sqrt((d1*(1 - d1))/len(v1) + (d2*(1 - d2))/len(v2))\n",
    "    return z_stat, z_crit"
   ]
  },
  {
   "cell_type": "code",
   "execution_count": 114,
   "id": "cf942f2c",
   "metadata": {},
   "outputs": [],
   "source": [
    "x_boot = get_bootstrap_sample(easy, B_sample=10**4)\n",
    "x_boot = np.median(x_boot, axis=0)\n",
    "\n",
    "y_boot = get_bootstrap_sample(medium, B_sample=10**4)\n",
    "y_boot = np.median(y_boot, axis=0)"
   ]
  },
  {
   "cell_type": "code",
   "execution_count": 115,
   "id": "d67a07ec",
   "metadata": {},
   "outputs": [
    {
     "data": {
      "text/plain": [
       "(-0.3505965717332036, 1.6448536269514722)"
      ]
     },
     "execution_count": 115,
     "metadata": {},
     "output_type": "execute_result"
    }
   ],
   "source": [
    "stat_razn_dolei(easy, medium, 0.05)"
   ]
  },
  {
   "cell_type": "markdown",
   "id": "d7689941",
   "metadata": {},
   "source": [
    "Значение статистики не попадает в область отвержения гипотезы [z_crit; +inf) Поэтому мы не отвергаем нулевую гипотезу. Сложности 1 и 2 одинаково вероятно \"выстреливают\" согласно нашему суждению."
   ]
  },
  {
   "cell_type": "markdown",
   "id": "7952ab0b",
   "metadata": {},
   "source": [
    "Нулевая гипотеза: Д_сл2 = Д_сл3 <br /> Альтернативная гипотеза: Д_сл2 > Д_сл3"
   ]
  },
  {
   "cell_type": "code",
   "execution_count": 116,
   "id": "5a8a25c1",
   "metadata": {},
   "outputs": [],
   "source": [
    "x_boot = get_bootstrap_sample(easy, B_sample=10**4)\n",
    "x_boot = np.median(x_boot, axis=0)\n",
    "\n",
    "z_boot = get_bootstrap_sample(hard, B_sample=10**4)\n",
    "z_boot = np.median(hard, axis=0)"
   ]
  },
  {
   "cell_type": "code",
   "execution_count": 117,
   "id": "baea8932",
   "metadata": {},
   "outputs": [
    {
     "data": {
      "text/plain": [
       "(-1.7851255072182237, 1.6448536269514722)"
      ]
     },
     "execution_count": 117,
     "metadata": {},
     "output_type": "execute_result"
    }
   ],
   "source": [
    "di_razn_dolei(medium, hard, 0.05)"
   ]
  },
  {
   "cell_type": "markdown",
   "id": "6e4c9d10",
   "metadata": {},
   "source": [
    "Значение статистики не попадает в область отвержения гипотезы [z_crit; +inf) Значит, мы не отвергаем нулевую гипотезу. Сложности 2 и 3 тоже одинаково вероятно могут получить популярность, а точнее, их сохранения одинаково могут быть выше ожидаемых (возможно, при иной гипотезе и более высокой планке популярности мы бы получили иные результаты), а если ещё точнее, при проведении теста не обошлось без допущений, поэтому точнее не выходит("
   ]
  },
  {
   "cell_type": "markdown",
   "id": "d8130da9",
   "metadata": {},
   "source": [
    "### Проверка гипотез 2"
   ]
  },
  {
   "cell_type": "code",
   "execution_count": null,
   "id": "cfa971c9",
   "metadata": {},
   "outputs": [],
   "source": [
    "longread = df.loc[(df['Время чтения'] > )]['В закладках'].values"
   ]
  },
  {
   "cell_type": "code",
   "execution_count": 128,
   "id": "fe4f9ae6",
   "metadata": {},
   "outputs": [
    {
     "data": {
      "image/png": "[encoded data removed]",
      "text/plain": [
       "<Figure size 432x216 with 1 Axes>"
      ]
     },
     "metadata": {
      "needs_background": "light"
     },
     "output_type": "display_data"
    }
   ],
   "source": [
    "plt.figure(figsize=(6,3))\n",
    "plt.hist(df.norm_ReadingTime, density=True)\n",
    "plt.xlabel('Normalized reading time')\n",
    "plt.ylabel('Density')\n",
    "plt.title('Histogram of normalized reading time')\n",
    "plt.show()"
   ]
  },
  {
   "cell_type": "markdown",
   "id": "a0f5c9aa",
   "metadata": {},
   "source": [
    "Попробуем узнать, есть ли связь между временем чтения и соотношения сохранений к просмотрам. Если пост объемный, больше ли у него в среднем показатель полезности? <br/> Для этого проверим гипотезу о матожиданиях для большого времени чтения и меньшего времени чтения. В качестве разделителя выборки по времени чтения возьмем медиану времени чтения. В целом, получаются почти одинаковые по размеру выборки, поэтому можно попробовать взять именно такое разделение и проверить: лучше больше или меньше."
   ]
  },
  {
   "cell_type": "code",
   "execution_count": 141,
   "id": "4dc20e30",
   "metadata": {},
   "outputs": [
    {
     "data": {
      "text/plain": [
       "(449, 551)"
      ]
     },
     "execution_count": 141,
     "metadata": {},
     "output_type": "execute_result"
    }
   ],
   "source": [
    "df.norm_ReadingTime[df.norm_ReadingTime > df.norm_ReadingTime.median()].size, df.norm_ReadingTime[df.norm_ReadingTime <= df.norm_ReadingTime.median()].size"
   ]
  },
  {
   "cell_type": "code",
   "execution_count": 153,
   "id": "0a428caa",
   "metadata": {},
   "outputs": [],
   "source": [
    "longread = df[df.norm_ReadingTime > df.norm_ReadingTime.median()]['Savings_per_Views'].values\n",
    "shortread = df[df.norm_ReadingTime <= df.norm_ReadingTime.median()]['Savings_per_Views'].values"
   ]
  },
  {
   "cell_type": "markdown",
   "id": "40f293b8",
   "metadata": {},
   "source": [
    "Нулевая гипотеза: МО_длинн = МО_корот <br /> Альтернативная гипотеза: МО_длинн =/= МО_корот"
   ]
  },
  {
   "cell_type": "code",
   "execution_count": 154,
   "id": "66cc5fbe",
   "metadata": {},
   "outputs": [
    {
     "data": {
      "image/png": "[encoded data removed]",
      "text/plain": [
       "<Figure size 648x432 with 1 Axes>"
      ]
     },
     "metadata": {
      "needs_background": "light"
     },
     "output_type": "display_data"
    }
   ],
   "source": [
    "plt.figure(figsize=(9,6))\n",
    "plt.hist(longread, bins=20, density=True, alpha=0.4, label='longread')\n",
    "plt.hist(shortread, bins=20, density=True, alpha=0.4, label='shortread')\n",
    "plt.xlabel('Number of saves to views')\n",
    "plt.ylabel('Density')\n",
    "plt.show()"
   ]
  },
  {
   "cell_type": "markdown",
   "id": "0ba3ed81",
   "metadata": {},
   "source": [
    "Выборки кажутся распределениями ближе к нормальному, но не факт, а ещё имеют выбросы... Снова используем бутстрап"
   ]
  },
  {
   "cell_type": "code",
   "execution_count": 155,
   "id": "567ffff7",
   "metadata": {},
   "outputs": [],
   "source": [
    "x_boot = get_bootstrap_sample(longread, B_sample=10**4)\n",
    "x_boot = np.median(x_boot, axis=0)\n",
    "\n",
    "y_boot = get_bootstrap_sample(shortread, B_sample=10**4)\n",
    "y_boot = np.median(y_boot, axis=0)"
   ]
  },
  {
   "cell_type": "code",
   "execution_count": 156,
   "id": "e8498720",
   "metadata": {
    "scrolled": true
   },
   "outputs": [
    {
     "data": {
      "text/plain": [
       "(0.0084415584415584, 0.0095)"
      ]
     },
     "execution_count": 156,
     "metadata": {},
     "output_type": "execute_result"
    }
   ],
   "source": [
    "stat_intervals(x_boot)"
   ]
  },
  {
   "cell_type": "code",
   "execution_count": 157,
   "id": "c58da6a0",
   "metadata": {},
   "outputs": [
    {
     "data": {
      "text/plain": [
       "(0.0064516129032258, 0.0073333333333333)"
      ]
     },
     "execution_count": 157,
     "metadata": {},
     "output_type": "execute_result"
    }
   ],
   "source": [
    "stat_intervals(y_boot)"
   ]
  },
  {
   "cell_type": "code",
   "execution_count": 158,
   "id": "65ba6ece",
   "metadata": {},
   "outputs": [
    {
     "data": {
      "text/plain": [
       "(0.0012987012987013009, 0.002777777777777799)"
      ]
     },
     "execution_count": 158,
     "metadata": {},
     "output_type": "execute_result"
    }
   ],
   "source": [
    "stat_intervals(x_boot - y_boot)"
   ]
  },
  {
   "cell_type": "code",
   "execution_count": 159,
   "id": "fdd5f924",
   "metadata": {},
   "outputs": [
    {
     "data": {
      "text/plain": [
       "1.0"
      ]
     },
     "execution_count": 159,
     "metadata": {},
     "output_type": "execute_result"
    }
   ],
   "source": [
    "np.mean(x_boot - y_boot > 0) # вероятность, что разница будет больше 0"
   ]
  },
  {
   "cell_type": "markdown",
   "id": "8d1e81ac",
   "metadata": {},
   "source": [
    "Отвергаем нулевую гипотезу о том, что сохранения к просмотрам одинаковы для \"лонгридов\" и более коротких постов (по нашему определению). Получается, что \"лонгриды\" имеют больший показатель взаимодействия, судя по нашим данным и тесту."
   ]
  },
  {
   "cell_type": "markdown",
   "id": "098afa63",
   "metadata": {},
   "source": [
    "В итоге, в ходе проверки гипотез мы узнали, что для выборок из наших данных ключевой для проекта показатель сохранений варьируется в зависимости от сложности (при этом, после проверки ещё гипотез не обнаружилось, что какой-то из уровней сложности более склонен вырываться вперед по популярности), а также что более объемные посты имеют большее соотношение сохранений к просмотрам. <br />Выводы о закономерностях в данных тем более основательны, чем более репрезентативна выборка и чем больше мы бы изменяли и пробовали гипотезы (в рамках разумного), однако для обобщения мы попробовали сделать некоторые заключения."
   ]
  }
 ],
 "metadata": {
  "kernelspec": {
   "display_name": "Python 3 (ipykernel)",
   "language": "python",
   "name": "python3"
  },
  "language_info": {
   "codemirror_mode": {
    "name": "ipython",
    "version": 3
   },
   "file_extension": ".py",
   "mimetype": "text/x-python",
   "name": "python",
   "nbconvert_exporter": "python",
   "pygments_lexer": "ipython3",
   "version": "3.9.7"
  }
 },
 "nbformat": 4,
 "nbformat_minor": 5
}
