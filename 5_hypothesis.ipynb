{
 "cells": [
  {
   "cell_type": "code",
   "execution_count": 18,
   "id": "723c7b56",
   "metadata": {},
   "outputs": [],
   "source": [
    "import numpy as np\n",
    "import pandas as pd\n",
    "\n",
    "from scipy import stats as sts\n",
    "\n",
    "import seaborn as sns\n",
    "import matplotlib.pyplot as plt"
   ]
  },
  {
   "cell_type": "code",
   "execution_count": 28,
   "id": "1b499c93",
   "metadata": {},
   "outputs": [],
   "source": [
    "df = pd.read_csv('4_new_features1.csv')"
   ]
  },
  {
   "cell_type": "code",
   "execution_count": 29,
   "id": "771c0eaa",
   "metadata": {
    "scrolled": true
   },
   "outputs": [
    {
     "data": {
      "text/html": [
       "<div>\n",
       "<style scoped>\n",
       "    .dataframe tbody tr th:only-of-type {\n",
       "        vertical-align: middle;\n",
       "    }\n",
       "\n",
       "    .dataframe tbody tr th {\n",
       "        vertical-align: top;\n",
       "    }\n",
       "\n",
       "    .dataframe thead th {\n",
       "        text-align: right;\n",
       "    }\n",
       "</style>\n",
       "<table border=\"1\" class=\"dataframe\">\n",
       "  <thead>\n",
       "    <tr style=\"text-align: right;\">\n",
       "      <th></th>\n",
       "      <th>Unnamed: 0</th>\n",
       "      <th>Unnamed: 0.1</th>\n",
       "      <th>item name</th>\n",
       "      <th>Время чтения</th>\n",
       "      <th>Сложность</th>\n",
       "      <th>Количество просмотров</th>\n",
       "      <th>В закладках</th>\n",
       "      <th>Комментарии</th>\n",
       "      <th>Автор</th>\n",
       "      <th>Рейтинг автора</th>\n",
       "      <th>Время публикации</th>\n",
       "      <th>Savings_per_Views</th>\n",
       "      <th>norm_ReadingTime</th>\n",
       "      <th>hour</th>\n",
       "    </tr>\n",
       "  </thead>\n",
       "  <tbody>\n",
       "    <tr>\n",
       "      <th>0</th>\n",
       "      <td>0</td>\n",
       "      <td>0</td>\n",
       "      <td>Мультяшная графика продаётся лучше реалистично...</td>\n",
       "      <td>8</td>\n",
       "      <td>2</td>\n",
       "      <td>324.0</td>\n",
       "      <td>1</td>\n",
       "      <td>1</td>\n",
       "      <td>@Kallist</td>\n",
       "      <td>0.0</td>\n",
       "      <td>2023-05-13 19:20:00</td>\n",
       "      <td>0.003086</td>\n",
       "      <td>0.084337</td>\n",
       "      <td>19</td>\n",
       "    </tr>\n",
       "    <tr>\n",
       "      <th>1</th>\n",
       "      <td>1</td>\n",
       "      <td>1</td>\n",
       "      <td>Picture in Picture Mode в android. Показываем ...</td>\n",
       "      <td>5</td>\n",
       "      <td>1</td>\n",
       "      <td>122.0</td>\n",
       "      <td>3</td>\n",
       "      <td>0</td>\n",
       "      <td>@cookie2727</td>\n",
       "      <td>0.0</td>\n",
       "      <td>2023-05-13 18:55:00</td>\n",
       "      <td>0.024590</td>\n",
       "      <td>0.048193</td>\n",
       "      <td>18</td>\n",
       "    </tr>\n",
       "    <tr>\n",
       "      <th>2</th>\n",
       "      <td>2</td>\n",
       "      <td>2</td>\n",
       "      <td>Много нас, а GPU один. Как делиться?</td>\n",
       "      <td>6</td>\n",
       "      <td>1</td>\n",
       "      <td>1600.0</td>\n",
       "      <td>5</td>\n",
       "      <td>6</td>\n",
       "      <td>@Antra</td>\n",
       "      <td>6.1</td>\n",
       "      <td>2023-05-13 17:57:00</td>\n",
       "      <td>0.003125</td>\n",
       "      <td>0.060241</td>\n",
       "      <td>17</td>\n",
       "    </tr>\n",
       "    <tr>\n",
       "      <th>3</th>\n",
       "      <td>3</td>\n",
       "      <td>3</td>\n",
       "      <td>Ближайшие бесплатные мероприятия по разработке...</td>\n",
       "      <td>2</td>\n",
       "      <td>1</td>\n",
       "      <td>376.0</td>\n",
       "      <td>1</td>\n",
       "      <td>0</td>\n",
       "      <td>@ITMeeting</td>\n",
       "      <td>-0.8</td>\n",
       "      <td>2023-05-13 16:27:00</td>\n",
       "      <td>0.002660</td>\n",
       "      <td>0.012048</td>\n",
       "      <td>16</td>\n",
       "    </tr>\n",
       "    <tr>\n",
       "      <th>4</th>\n",
       "      <td>4</td>\n",
       "      <td>4</td>\n",
       "      <td>Одноплатник Orange Pi 5 Plus: характеристики и...</td>\n",
       "      <td>4</td>\n",
       "      <td>,</td>\n",
       "      <td>3500.0</td>\n",
       "      <td>6</td>\n",
       "      <td>13</td>\n",
       "      <td>@Seleditor</td>\n",
       "      <td>49.0</td>\n",
       "      <td>2023-05-13 12:55:00</td>\n",
       "      <td>0.001714</td>\n",
       "      <td>0.036145</td>\n",
       "      <td>12</td>\n",
       "    </tr>\n",
       "  </tbody>\n",
       "</table>\n",
       "</div>"
      ],
      "text/plain": [
       "   Unnamed: 0  Unnamed: 0.1  \\\n",
       "0           0             0   \n",
       "1           1             1   \n",
       "2           2             2   \n",
       "3           3             3   \n",
       "4           4             4   \n",
       "\n",
       "                                           item name  Время чтения Сложность  \\\n",
       "0  Мультяшная графика продаётся лучше реалистично...             8         2   \n",
       "1  Picture in Picture Mode в android. Показываем ...             5         1   \n",
       "2               Много нас, а GPU один. Как делиться?             6         1   \n",
       "3  Ближайшие бесплатные мероприятия по разработке...             2         1   \n",
       "4  Одноплатник Orange Pi 5 Plus: характеристики и...             4         ,   \n",
       "\n",
       "   Количество просмотров  В закладках  Комментарии        Автор  \\\n",
       "0                  324.0            1            1     @Kallist   \n",
       "1                  122.0            3            0  @cookie2727   \n",
       "2                 1600.0            5            6       @Antra   \n",
       "3                  376.0            1            0   @ITMeeting   \n",
       "4                 3500.0            6           13   @Seleditor   \n",
       "\n",
       "   Рейтинг автора     Время публикации  Savings_per_Views  norm_ReadingTime  \\\n",
       "0             0.0  2023-05-13 19:20:00           0.003086          0.084337   \n",
       "1             0.0  2023-05-13 18:55:00           0.024590          0.048193   \n",
       "2             6.1  2023-05-13 17:57:00           0.003125          0.060241   \n",
       "3            -0.8  2023-05-13 16:27:00           0.002660          0.012048   \n",
       "4            49.0  2023-05-13 12:55:00           0.001714          0.036145   \n",
       "\n",
       "   hour  \n",
       "0    19  \n",
       "1    18  \n",
       "2    17  \n",
       "3    16  \n",
       "4    12  "
      ]
     },
     "execution_count": 29,
     "metadata": {},
     "output_type": "execute_result"
    }
   ],
   "source": [
    "df.head()"
   ]
  },
  {
   "cell_type": "markdown",
   "id": "eb57d2ba",
   "metadata": {},
   "source": [
    "### Проверка гипотез.1"
   ]
  },
  {
   "cell_type": "markdown",
   "id": "42be7e7b",
   "metadata": {},
   "source": [
    "Мы хотим узнать, есть ли разница в ожидаемом количестве сохранений у постов в зависимости от сложности. Визуализация наводила на мысль, что 1 и 2 сложность не отличаются по количеству сохранений. Поэтому мы сравним сначала их, а потом проведем сравнение с 3 сложностью."
   ]
  },
  {
   "cell_type": "code",
   "execution_count": 30,
   "id": "59cf4cdd",
   "metadata": {},
   "outputs": [],
   "source": [
    "easy = df.loc[(df['Сложность'] == '1')]['В закладках'].values\n",
    "medium = df.loc[(df['Сложность'] == '2')]['В закладках'].values\n",
    "hard = df.loc[(df['Сложность'] == '3')]['В закладках'].values"
   ]
  },
  {
   "cell_type": "code",
   "execution_count": 50,
   "id": "d0ccd04d",
   "metadata": {},
   "outputs": [
    {
     "data": {
      "image/png": "[encoded data removed]",
      "text/plain": [
       "<Figure size 648x432 with 1 Axes>"
      ]
     },
     "metadata": {
      "needs_background": "light"
     },
     "output_type": "display_data"
    }
   ],
   "source": [
    "plt.figure(figsize=(9,6))\n",
    "plt.hist(easy, bins=20, density=True, alpha=0.4, label='easy')\n",
    "plt.hist(medium, bins=20, density=True, alpha=0.4, label='medium')\n",
    "plt.hist(hard, bins=20, density=True, alpha=0.4, label='hard')\n",
    "plt.xlabel('Number of saves')\n",
    "plt.ylabel('Density')\n",
    "plt.title('Histograms of number of saves depending on difficulty level')\n",
    "plt.legend();"
   ]
  },
  {
   "cell_type": "code",
   "execution_count": 32,
   "id": "8458ee0b",
   "metadata": {},
   "outputs": [
    {
     "name": "stdout",
     "output_type": "stream",
     "text": [
      "33.851351351351354 23.0\n",
      "38.457142857142856 26.0\n",
      "45.47222222222222 47.5\n"
     ]
    }
   ],
   "source": [
    "print(np.mean(easy), np.median(easy))\n",
    "print(np.mean(medium), np.median(medium))\n",
    "print(np.mean(hard), np.median(hard))"
   ]
  },
  {
   "cell_type": "code",
   "execution_count": 38,
   "id": "6313b2ab",
   "metadata": {},
   "outputs": [
    {
     "data": {
      "text/plain": [
       "36"
      ]
     },
     "execution_count": 38,
     "metadata": {},
     "output_type": "execute_result"
    }
   ],
   "source": [
    "hard.shape[0]"
   ]
  },
  {
   "cell_type": "markdown",
   "id": "5bbd39a0",
   "metadata": {},
   "source": [
    "Судя по графику и выборочным средним, 3 сложность обособлена от других двух и имеет в среднем больше сохранений, хотя на это влияет и число наблюдений в выборках. А вот статистическую значимость разницы между матожиданиями 1 и 2 сложности хотелось бы проверить."
   ]
  },
  {
   "cell_type": "markdown",
   "id": "50f558b3",
   "metadata": {},
   "source": [
    "Нулевая гипотеза: МО_сл1 = МО_сл2 <br /> Альтернативная гипотеза: МО_сл1 > МО_сл2"
   ]
  },
  {
   "cell_type": "markdown",
   "id": "88316d64",
   "metadata": {},
   "source": [
    "По гистограммам видно, что выборки не похожи на нормальные. Нам нужна статистика, которая бы подошла для проверки гипотезы о матожиданиях для выборок не из нормального распределения."
   ]
  },
  {
   "cell_type": "markdown",
   "id": "45d5b6c8",
   "metadata": {},
   "source": [
    "Выполняются предпосылки: независимость выборок, большое число наблюдений. Однако есть выбросы. Поэтому воспользуемся бутстрапом. <br /> *(Нас также интересовала доля этих выбросов, чтобы ответить на вопрос о том, посты какой сложности имеют больший потенциал \"выстрелить\". Но это уже совсем другая гипотеза)*"
   ]
  },
  {
   "cell_type": "code",
   "execution_count": 40,
   "id": "545e3654",
   "metadata": {},
   "outputs": [],
   "source": [
    "def get_bootstrap_sample(x, B_sample=1):\n",
    "    N = x.size \n",
    "    sample = np.random.choice(x, size=(N, B_sample), replace=True)\n",
    "    \n",
    "    if B_sample == 1:\n",
    "        sample = sample.T[0]\n",
    "    return sample"
   ]
  },
  {
   "cell_type": "code",
   "execution_count": 42,
   "id": "f4479631",
   "metadata": {},
   "outputs": [],
   "source": [
    "def stat_intervals(boot, alpha=0.05):\n",
    "    left = np.quantile(boot, alpha/2)\n",
    "    right = np.quantile(boot, 1-alpha/2)\n",
    "    return left, right"
   ]
  },
  {
   "cell_type": "code",
   "execution_count": 41,
   "id": "ea9b4f4f",
   "metadata": {},
   "outputs": [],
   "source": [
    "x_boot = get_bootstrap_sample(easy, B_sample=10**4)\n",
    "x_boot = np.median(x_boot, axis=0)\n",
    "\n",
    "y_boot = get_bootstrap_sample(medium, B_sample=10**4)\n",
    "y_boot = np.median(y_boot, axis=0)"
   ]
  },
  {
   "cell_type": "code",
   "execution_count": 43,
   "id": "f72aab70",
   "metadata": {},
   "outputs": [
    {
     "data": {
      "text/plain": [
       "(21.0, 25.0)"
      ]
     },
     "execution_count": 43,
     "metadata": {},
     "output_type": "execute_result"
    }
   ],
   "source": [
    "stat_intervals(x_boot)"
   ]
  },
  {
   "cell_type": "code",
   "execution_count": 44,
   "id": "5d5a208d",
   "metadata": {},
   "outputs": [
    {
     "data": {
      "text/plain": [
       "(22.0, 30.0)"
      ]
     },
     "execution_count": 44,
     "metadata": {},
     "output_type": "execute_result"
    }
   ],
   "source": [
    "stat_intervals(y_boot)"
   ]
  },
  {
   "cell_type": "code",
   "execution_count": 45,
   "id": "f723fb04",
   "metadata": {},
   "outputs": [
    {
     "data": {
      "text/plain": [
       "(-7.5, 1.0)"
      ]
     },
     "execution_count": 45,
     "metadata": {},
     "output_type": "execute_result"
    }
   ],
   "source": [
    "stat_intervals(x_boot - y_boot)"
   ]
  },
  {
   "cell_type": "code",
   "execution_count": 49,
   "id": "25ce1c8a",
   "metadata": {},
   "outputs": [
    {
     "data": {
      "text/plain": [
       "0.0485"
      ]
     },
     "execution_count": 49,
     "metadata": {},
     "output_type": "execute_result"
    }
   ],
   "source": [
    "np.mean(x_boot - y_boot > 0) # вероятность, что разница будет больше 0"
   ]
  },
  {
   "cell_type": "markdown",
   "id": "2a6afd2a",
   "metadata": {},
   "source": [
    "Получается, на уровне значимости 5% нет разницы между матожиданием числа сохранений постов 1 сложности и постов 2 сложности"
   ]
  },
  {
   "cell_type": "markdown",
   "id": "6239b471",
   "metadata": {},
   "source": [
    "### Проверка гипотез.2"
   ]
  },
  {
   "cell_type": "code",
   "execution_count": null,
   "id": "7d182723",
   "metadata": {},
   "outputs": [],
   "source": [
    "longread = df.loc[(df['Время чтения'] > )]['В закладках'].values"
   ]
  }
 ],
 "metadata": {
  "kernelspec": {
   "display_name": "Python 3 (ipykernel)",
   "language": "python",
   "name": "python3"
  },
  "language_info": {
   "codemirror_mode": {
    "name": "ipython",
    "version": 3
   },
   "file_extension": ".py",
   "mimetype": "text/x-python",
   "name": "python",
   "nbconvert_exporter": "python",
   "pygments_lexer": "ipython3",
   "version": "3.9.7"
  }
 },
 "nbformat": 4,
 "nbformat_minor": 5
}
