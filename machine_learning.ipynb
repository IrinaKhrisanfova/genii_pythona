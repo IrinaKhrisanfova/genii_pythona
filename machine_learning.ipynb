{
 "cells": [
  {
   "cell_type": "markdown",
   "id": "22b3d034",
   "metadata": {},
   "source": [
    "**В наших данных есть переменная \"в закладках\" (количество сохранений), мы попробуем ее предсказать, потому что эта переменная может служить эквивалентом полезности статьи**"
   ]
  },
  {
   "cell_type": "code",
   "execution_count": 1,
   "id": "6e57f185",
   "metadata": {},
   "outputs": [],
   "source": [
    "import numpy as np\n",
    "import pandas as pd\n",
    "import matplotlib.pyplot as plt\n",
    "import seaborn as sns"
   ]
  },
  {
   "cell_type": "code",
   "execution_count": 2,
   "id": "d2b88349",
   "metadata": {},
   "outputs": [
    {
     "data": {
      "text/html": [
       "<div>\n",
       "<style scoped>\n",
       "    .dataframe tbody tr th:only-of-type {\n",
       "        vertical-align: middle;\n",
       "    }\n",
       "\n",
       "    .dataframe tbody tr th {\n",
       "        vertical-align: top;\n",
       "    }\n",
       "\n",
       "    .dataframe thead th {\n",
       "        text-align: right;\n",
       "    }\n",
       "</style>\n",
       "<table border=\"1\" class=\"dataframe\">\n",
       "  <thead>\n",
       "    <tr style=\"text-align: right;\">\n",
       "      <th></th>\n",
       "      <th>item name</th>\n",
       "      <th>Время чтения</th>\n",
       "      <th>Сложность</th>\n",
       "      <th>Количество просмотров</th>\n",
       "      <th>В закладках</th>\n",
       "      <th>Комментарии</th>\n",
       "      <th>Автор</th>\n",
       "      <th>Рейтинг автора</th>\n",
       "      <th>Время публикации</th>\n",
       "      <th>Savings_per_Views</th>\n",
       "      <th>norm_ReadingTime</th>\n",
       "      <th>hour</th>\n",
       "    </tr>\n",
       "  </thead>\n",
       "  <tbody>\n",
       "    <tr>\n",
       "      <th>0</th>\n",
       "      <td>Мультяшная графика продаётся лучше реалистично...</td>\n",
       "      <td>8</td>\n",
       "      <td>2</td>\n",
       "      <td>324.0</td>\n",
       "      <td>1</td>\n",
       "      <td>1</td>\n",
       "      <td>@Kallist</td>\n",
       "      <td>0.0</td>\n",
       "      <td>2023-05-13 19:20:00</td>\n",
       "      <td>0.003086</td>\n",
       "      <td>0.084337</td>\n",
       "      <td>19</td>\n",
       "    </tr>\n",
       "    <tr>\n",
       "      <th>1</th>\n",
       "      <td>Picture in Picture Mode в android. Показываем ...</td>\n",
       "      <td>5</td>\n",
       "      <td>1</td>\n",
       "      <td>122.0</td>\n",
       "      <td>3</td>\n",
       "      <td>0</td>\n",
       "      <td>@cookie2727</td>\n",
       "      <td>0.0</td>\n",
       "      <td>2023-05-13 18:55:00</td>\n",
       "      <td>0.024590</td>\n",
       "      <td>0.048193</td>\n",
       "      <td>18</td>\n",
       "    </tr>\n",
       "    <tr>\n",
       "      <th>2</th>\n",
       "      <td>Много нас, а GPU один. Как делиться?</td>\n",
       "      <td>6</td>\n",
       "      <td>1</td>\n",
       "      <td>1600.0</td>\n",
       "      <td>5</td>\n",
       "      <td>6</td>\n",
       "      <td>@Antra</td>\n",
       "      <td>6.1</td>\n",
       "      <td>2023-05-13 17:57:00</td>\n",
       "      <td>0.003125</td>\n",
       "      <td>0.060241</td>\n",
       "      <td>17</td>\n",
       "    </tr>\n",
       "    <tr>\n",
       "      <th>3</th>\n",
       "      <td>Ближайшие бесплатные мероприятия по разработке...</td>\n",
       "      <td>2</td>\n",
       "      <td>1</td>\n",
       "      <td>376.0</td>\n",
       "      <td>1</td>\n",
       "      <td>0</td>\n",
       "      <td>@ITMeeting</td>\n",
       "      <td>-0.8</td>\n",
       "      <td>2023-05-13 16:27:00</td>\n",
       "      <td>0.002660</td>\n",
       "      <td>0.012048</td>\n",
       "      <td>16</td>\n",
       "    </tr>\n",
       "    <tr>\n",
       "      <th>4</th>\n",
       "      <td>Одноплатник Orange Pi 5 Plus: характеристики и...</td>\n",
       "      <td>4</td>\n",
       "      <td>,</td>\n",
       "      <td>3500.0</td>\n",
       "      <td>6</td>\n",
       "      <td>13</td>\n",
       "      <td>@Seleditor</td>\n",
       "      <td>49.0</td>\n",
       "      <td>2023-05-13 12:55:00</td>\n",
       "      <td>0.001714</td>\n",
       "      <td>0.036145</td>\n",
       "      <td>12</td>\n",
       "    </tr>\n",
       "  </tbody>\n",
       "</table>\n",
       "</div>"
      ],
      "text/plain": [
       "                                           item name  Время чтения Сложность  \\\n",
       "0  Мультяшная графика продаётся лучше реалистично...             8         2   \n",
       "1  Picture in Picture Mode в android. Показываем ...             5         1   \n",
       "2               Много нас, а GPU один. Как делиться?             6         1   \n",
       "3  Ближайшие бесплатные мероприятия по разработке...             2         1   \n",
       "4  Одноплатник Orange Pi 5 Plus: характеристики и...             4         ,   \n",
       "\n",
       "   Количество просмотров  В закладках  Комментарии        Автор  \\\n",
       "0                  324.0            1            1     @Kallist   \n",
       "1                  122.0            3            0  @cookie2727   \n",
       "2                 1600.0            5            6       @Antra   \n",
       "3                  376.0            1            0   @ITMeeting   \n",
       "4                 3500.0            6           13   @Seleditor   \n",
       "\n",
       "   Рейтинг автора     Время публикации  Savings_per_Views  norm_ReadingTime  \\\n",
       "0             0.0  2023-05-13 19:20:00           0.003086          0.084337   \n",
       "1             0.0  2023-05-13 18:55:00           0.024590          0.048193   \n",
       "2             6.1  2023-05-13 17:57:00           0.003125          0.060241   \n",
       "3            -0.8  2023-05-13 16:27:00           0.002660          0.012048   \n",
       "4            49.0  2023-05-13 12:55:00           0.001714          0.036145   \n",
       "\n",
       "   hour  \n",
       "0    19  \n",
       "1    18  \n",
       "2    17  \n",
       "3    16  \n",
       "4    12  "
      ]
     },
     "execution_count": 2,
     "metadata": {},
     "output_type": "execute_result"
    }
   ],
   "source": [
    "df = pd.read_csv('new_features1.csv')\n",
    "df = df.drop(labels='Unnamed: 0', axis = 1)\n",
    "df = df.drop(labels='Unnamed: 0.1', axis = 1)\n",
    "df.head()"
   ]
  },
  {
   "cell_type": "code",
   "execution_count": 3,
   "id": "72357de1",
   "metadata": {
    "scrolled": true
   },
   "outputs": [
    {
     "data": {
      "text/plain": [
       "item name                0\n",
       "Время чтения             0\n",
       "Сложность                0\n",
       "Количество просмотров    0\n",
       "В закладках              0\n",
       "Комментарии              0\n",
       "Автор                    4\n",
       "Рейтинг автора           4\n",
       "Время публикации         0\n",
       "Savings_per_Views        0\n",
       "norm_ReadingTime         0\n",
       "hour                     0\n",
       "dtype: int64"
      ]
     },
     "execution_count": 3,
     "metadata": {},
     "output_type": "execute_result"
    }
   ],
   "source": [
    "df.isnull().sum()"
   ]
  },
  {
   "cell_type": "code",
   "execution_count": 4,
   "id": "acc1a5fd",
   "metadata": {},
   "outputs": [
    {
     "data": {
      "text/plain": [
       "item name                0\n",
       "Время чтения             0\n",
       "Сложность                0\n",
       "Количество просмотров    0\n",
       "В закладках              0\n",
       "Комментарии              0\n",
       "Автор                    0\n",
       "Рейтинг автора           0\n",
       "Время публикации         0\n",
       "Savings_per_Views        0\n",
       "norm_ReadingTime         0\n",
       "hour                     0\n",
       "dtype: int64"
      ]
     },
     "execution_count": 4,
     "metadata": {},
     "output_type": "execute_result"
    }
   ],
   "source": [
    "df=df.dropna()\n",
    "df.isnull().sum()"
   ]
  },
  {
   "cell_type": "markdown",
   "id": "32f546e4",
   "metadata": {},
   "source": [
    "#### Обучим простую линейную модель с одним признаком вида $y = w_0 + w_1x$"
   ]
  },
  {
   "cell_type": "code",
   "execution_count": 5,
   "id": "b44b8639",
   "metadata": {},
   "outputs": [],
   "source": [
    "from sklearn.model_selection import train_test_split \n",
    "\n",
    "df_train, df_test = train_test_split(df, test_size = 0.2, random_state=42)\n",
    "\n",
    "y_train = df_train['В закладках']\n",
    "y_test = df_test['В закладках']\n",
    "\n",
    "X_train = df_train[['Количество просмотров']]\n",
    "X_test = df_test[['Количество просмотров']]"
   ]
  },
  {
   "cell_type": "code",
   "execution_count": 6,
   "id": "0eb784ef",
   "metadata": {},
   "outputs": [
    {
     "name": "stdout",
     "output_type": "stream",
     "text": [
      "w1 = [0.00280963], w0 = 18.78792411796073\n"
     ]
    }
   ],
   "source": [
    "from sklearn.linear_model import LinearRegression\n",
    "from sklearn.metrics import mean_squared_error, mean_absolute_error, r2_score\n",
    "\n",
    "model_regression = LinearRegression()\n",
    "model_regression.fit(X_train, y_train)\n",
    "print (f'w1 = {model_regression.coef_}, w0 = {model_regression.intercept_}')"
   ]
  },
  {
   "cell_type": "markdown",
   "id": "df137b9b",
   "metadata": {},
   "source": [
    "#### Построим прогнозы на тестовой выборке"
   ]
  },
  {
   "cell_type": "code",
   "execution_count": 7,
   "id": "26530b39",
   "metadata": {},
   "outputs": [],
   "source": [
    "y_pred_regr = model_regression.predict(X_test)"
   ]
  },
  {
   "cell_type": "code",
   "execution_count": 15,
   "id": "44ff2261",
   "metadata": {},
   "outputs": [
    {
     "data": {
      "image/png": "[encoded data removed]",
      "text/plain": [
       "<Figure size 432x288 with 1 Axes>"
      ]
     },
     "metadata": {
      "needs_background": "light"
     },
     "output_type": "display_data"
    }
   ],
   "source": [
    "df.plot(kind='scatter', x='Количество просмотров', y='В закладках')\n",
    "\n",
    "plt.plot(X_test, y_pred_regr, c='red', linewidth=2)\n",
    "plt.show()"
   ]
  },
  {
   "cell_type": "code",
   "execution_count": 9,
   "id": "3b2de7c5",
   "metadata": {},
   "outputs": [
    {
     "name": "stdout",
     "output_type": "stream",
     "text": [
      "MAE: 16.9804\n",
      "RMSE: 26.6962\n",
      "MAPE: 0.7892\n"
     ]
    }
   ],
   "source": [
    "from sklearn import metrics\n",
    "def print_metrics(y_test,y_pred_regr):\n",
    "    print('MAE:', \"%.4f\" % metrics.mean_absolute_error(y_test, y_pred_regr))\n",
    "    print('RMSE:', \"%.4f\" % np.sqrt(metrics.mean_squared_error(y_test, y_pred_regr)))\n",
    "    print('MAPE:', \"%.4f\" % metrics.mean_absolute_percentage_error(y_test,y_pred_regr))\n",
    "\n",
    "print_metrics(y_test, y_pred_regr)"
   ]
  },
  {
   "cell_type": "code",
   "execution_count": 10,
   "id": "f817b4bb",
   "metadata": {},
   "outputs": [
    {
     "name": "stdout",
     "output_type": "stream",
     "text": [
      "MAE: 16.5545\n",
      "RMSE: 27.0560\n",
      "MAPE: 0.6356\n"
     ]
    }
   ],
   "source": [
    "from sklearn.neighbors import KNeighborsRegressor\n",
    "\n",
    "model_knn = KNeighborsRegressor(n_neighbors=20)\n",
    "\n",
    "model_knn.fit(X_train, y_train)\n",
    "\n",
    "y_pred_knn = model_knn.predict(X_test)\n",
    "\n",
    "print_metrics(y_test, y_pred_knn)"
   ]
  },
  {
   "cell_type": "markdown",
   "id": "acaa144b",
   "metadata": {},
   "source": [
    "Качество модели немного улучшилось\n",
    "\n",
    "### Теперь возьмем несколько признаков"
   ]
  },
  {
   "cell_type": "code",
   "execution_count": 19,
   "id": "f0933363",
   "metadata": {},
   "outputs": [],
   "source": [
    "y_train = df_train['В закладках']\n",
    "y_test = df_test['В закладках']\n",
    "\n",
    "X_train = df_train[['Количество просмотров', 'Savings_per_Views', 'Время чтения', 'Комментарии', 'Рейтинг автора']]\n",
    "X_test = df_test[['Количество просмотров', 'Savings_per_Views', 'Время чтения', 'Комментарии', 'Рейтинг автора']]"
   ]
  },
  {
   "cell_type": "code",
   "execution_count": 20,
   "id": "68125ea6",
   "metadata": {},
   "outputs": [
    {
     "name": "stdout",
     "output_type": "stream",
     "text": [
      "[ 3.39795590e-03  2.87045735e+03  1.60774719e-01 -8.62094194e-02\n",
      "  6.37745595e-02], -11.527248325707781\n"
     ]
    }
   ],
   "source": [
    "model_regression = LinearRegression()\n",
    "model_regression.fit(X_train, y_train)\n",
    "\n",
    "print (f'{model_regression.coef_}, {model_regression.intercept_}')"
   ]
  },
  {
   "cell_type": "code",
   "execution_count": 22,
   "id": "b91de977",
   "metadata": {},
   "outputs": [
    {
     "name": "stdout",
     "output_type": "stream",
     "text": [
      "MAE: 13.3040\n",
      "RMSE: 21.9857\n",
      "MAPE: 0.4492\n"
     ]
    }
   ],
   "source": [
    "y_pred_regr = model_regression.predict(X_test)\n",
    "print_metrics(y_test, y_pred_regr)"
   ]
  },
  {
   "cell_type": "markdown",
   "id": "333086bb",
   "metadata": {},
   "source": [
    "Получили улучшение качества модели"
   ]
  }
 ],
 "metadata": {
  "kernelspec": {
   "display_name": "Python 3 (ipykernel)",
   "language": "python",
   "name": "python3"
  },
  "language_info": {
   "codemirror_mode": {
    "name": "ipython",
    "version": 3
   },
   "file_extension": ".py",
   "mimetype": "text/x-python",
   "name": "python",
   "nbconvert_exporter": "python",
   "pygments_lexer": "ipython3",
   "version": "3.9.7"
  }
 },
 "nbformat": 4,
 "nbformat_minor": 5
}
