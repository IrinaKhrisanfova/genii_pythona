{
 "cells": [
  {
   "cell_type": "code",
   "execution_count": 3,
   "id": "602e8b2b",
   "metadata": {},
   "outputs": [],
   "source": [
    "import requests\n",
    "from bs4 import BeautifulSoup as bs\n",
    "import pandas as pd\n",
    "from collections import defaultdict as dd\n",
    "from tqdm.notebook import tqdm\n",
    "import re"
   ]
  },
  {
   "cell_type": "code",
   "execution_count": 21,
   "id": "2905117f",
   "metadata": {},
   "outputs": [
    {
     "data": {
      "text/plain": [
       "'доступ к сайту есть'"
      ]
     },
     "execution_count": 21,
     "metadata": {},
     "output_type": "execute_result"
    }
   ],
   "source": [
    "# функция assert для проверки доступа к сайту\n",
    "def check (link):\n",
    "    response=requests.get(link)\n",
    "    assert str(response) == '<Response [200]>'\n",
    "    return 'доступ к сайту есть'\n",
    "\n",
    "# основная страница, с которой будем брать информацию\n",
    "url ='https://habr.com/ru/flows/develop/page1/'\n",
    "response=requests.get(url)\n",
    "s=response.content\n",
    "soup = bs(s,'html.parser')\n",
    "\n",
    "check(url)"
   ]
  },
  {
   "cell_type": "code",
   "execution_count": 3,
   "id": "9d0e7357",
   "metadata": {},
   "outputs": [
    {
     "data": {
      "text/plain": [
       "20"
      ]
     },
     "execution_count": 3,
     "metadata": {},
     "output_type": "execute_result"
    }
   ],
   "source": [
    "item = soup.find_all('div', {'class' : \"tm-article-snippet tm-article-snippet\"})\n",
    "item_name = soup.find_all('h2', {'class' : \"tm-title tm-title_h2\"})\n",
    "# проверю соответствие на 1 странице\n",
    "len(item_name)"
   ]
  },
  {
   "cell_type": "code",
   "execution_count": 4,
   "id": "b9beb19f",
   "metadata": {},
   "outputs": [
    {
     "data": {
      "text/plain": [
       "'Мультяшная графика продаётся лучше реалистичной. Так ли это на самом деле?'"
      ]
     },
     "execution_count": 4,
     "metadata": {},
     "output_type": "execute_result"
    }
   ],
   "source": [
    "# название статьи\n",
    "item[0].find('h2', {'class' : \"tm-title tm-title_h2\"}).text"
   ]
  },
  {
   "cell_type": "code",
   "execution_count": 5,
   "id": "14b0af46",
   "metadata": {},
   "outputs": [
    {
     "data": {
      "text/plain": [
       "'/ru/articles/734892/'"
      ]
     },
     "execution_count": 5,
     "metadata": {},
     "output_type": "execute_result"
    }
   ],
   "source": [
    "# ссылка статьи после основной \n",
    "item_name[0].a.get('href')"
   ]
  },
  {
   "cell_type": "code",
   "execution_count": 6,
   "id": "6f2c4bc0",
   "metadata": {},
   "outputs": [
    {
     "data": {
      "text/html": [
       "<div>\n",
       "<style scoped>\n",
       "    .dataframe tbody tr th:only-of-type {\n",
       "        vertical-align: middle;\n",
       "    }\n",
       "\n",
       "    .dataframe tbody tr th {\n",
       "        vertical-align: top;\n",
       "    }\n",
       "\n",
       "    .dataframe thead th {\n",
       "        text-align: right;\n",
       "    }\n",
       "</style>\n",
       "<table border=\"1\" class=\"dataframe\">\n",
       "  <thead>\n",
       "    <tr style=\"text-align: right;\">\n",
       "      <th></th>\n",
       "      <th>item name</th>\n",
       "    </tr>\n",
       "  </thead>\n",
       "  <tbody>\n",
       "    <tr>\n",
       "      <th>/ru/articles/734892/</th>\n",
       "      <td>Мультяшная графика продаётся лучше реалистично...</td>\n",
       "    </tr>\n",
       "    <tr>\n",
       "      <th>/ru/articles/734890/</th>\n",
       "      <td>Picture in Picture Mode в android. Показываем ...</td>\n",
       "    </tr>\n",
       "    <tr>\n",
       "      <th>/ru/articles/734888/</th>\n",
       "      <td>Много нас, а GPU один. Как делиться?</td>\n",
       "    </tr>\n",
       "    <tr>\n",
       "      <th>/ru/articles/734830/</th>\n",
       "      <td>Ближайшие бесплатные мероприятия по разработке...</td>\n",
       "    </tr>\n",
       "    <tr>\n",
       "      <th>/ru/companies/selectel/articles/734860/</th>\n",
       "      <td>Одноплатник Orange Pi 5 Plus: характеристики и...</td>\n",
       "    </tr>\n",
       "    <tr>\n",
       "      <th>...</th>\n",
       "      <td>...</td>\n",
       "    </tr>\n",
       "    <tr>\n",
       "      <th>/ru/articles/728896/</th>\n",
       "      <td>Java на стероидах, или опыт работы с Jmix</td>\n",
       "    </tr>\n",
       "    <tr>\n",
       "      <th>/ru/companies/sportmaster_lab/articles/728880/</th>\n",
       "      <td>«Чистый» код, ужасная производительность</td>\n",
       "    </tr>\n",
       "    <tr>\n",
       "      <th>/ru/articles/723668/</th>\n",
       "      <td>PostgreSQL под капотом. Часть 5. Простой SELEC...</td>\n",
       "    </tr>\n",
       "    <tr>\n",
       "      <th>/ru/articles/728870/</th>\n",
       "      <td>Чат в терминале на Rust</td>\n",
       "    </tr>\n",
       "    <tr>\n",
       "      <th>/ru/articles/728868/</th>\n",
       "      <td>ChatGPT на Java пишет renamer для файлов</td>\n",
       "    </tr>\n",
       "  </tbody>\n",
       "</table>\n",
       "<p>1000 rows × 1 columns</p>\n",
       "</div>"
      ],
      "text/plain": [
       "                                                                                        item name\n",
       "/ru/articles/734892/                            Мультяшная графика продаётся лучше реалистично...\n",
       "/ru/articles/734890/                            Picture in Picture Mode в android. Показываем ...\n",
       "/ru/articles/734888/                                         Много нас, а GPU один. Как делиться?\n",
       "/ru/articles/734830/                            Ближайшие бесплатные мероприятия по разработке...\n",
       "/ru/companies/selectel/articles/734860/         Одноплатник Orange Pi 5 Plus: характеристики и...\n",
       "...                                                                                           ...\n",
       "/ru/articles/728896/                                    Java на стероидах, или опыт работы с Jmix\n",
       "/ru/companies/sportmaster_lab/articles/728880/           «Чистый» код, ужасная производительность\n",
       "/ru/articles/723668/                            PostgreSQL под капотом. Часть 5. Простой SELEC...\n",
       "/ru/articles/728870/                                                      Чат в терминале на Rust\n",
       "/ru/articles/728868/                                     ChatGPT на Java пишет renamer для файлов\n",
       "\n",
       "[1000 rows x 1 columns]"
      ]
     },
     "execution_count": 6,
     "metadata": {},
     "output_type": "execute_result"
    }
   ],
   "source": [
    "d = dd(lambda:{})\n",
    "for page in range(1, 51):\n",
    "    #для каждой страницы заменяю номер в ссылке\n",
    "    url = f'https://habr.com/ru/flows/develop/page{page}/'\n",
    "    response = requests.get(url)\n",
    "    soup = bs(response.content, 'html.parser')\n",
    "    #нахожу все товары на странице\n",
    "    items_on_one_page = soup.find_all('div', {'class' : \"tm-article-snippet tm-article-snippet\"})\n",
    "    #для каждой статьи на странице ищу ссылку и название, добавляю в словарь\n",
    "    for item in items_on_one_page:\n",
    "        #href = item.a.get('href')\n",
    "        name = item.find('h2', {'class' : \"tm-title tm-title_h2\"}).text\n",
    "        href = item.find('h2', {'class' : \"tm-title tm-title_h2\"}).a.get('href')\n",
    "        d[href] = {'item name': name}\n",
    "#вывожу в удобной форме через pandas\n",
    "pd.DataFrame(d).T"
   ]
  },
  {
   "cell_type": "markdown",
   "id": "8dab04d3",
   "metadata": {},
   "source": [
    "Теперь возьмем одну статью и выделим все признаки для нее в словарь\n",
    "\n",
    "*Там в коде и в выводе различаются некоторые данные, потому что они успели поменяться за то время, пока мы чинили все, ну это не играет никакой роли, очень лень переделывать, поэтому будут небольшие расхождения"
   ]
  },
  {
   "cell_type": "code",
   "execution_count": 7,
   "id": "e1a1b236",
   "metadata": {},
   "outputs": [
    {
     "data": {
      "text/plain": [
       "'3 мин'"
      ]
     },
     "execution_count": 7,
     "metadata": {},
     "output_type": "execute_result"
    }
   ],
   "source": [
    "#проход по странице конкретной статьи /ru/articles/734556/\n",
    "url = 'https://habr.com/ru/articles/734556/'\n",
    "response = requests.get(url)\n",
    "soup = bs(response.content, 'html.parser')\n",
    "di={}\n",
    "\n",
    "# ищем Время чтения в коде\n",
    "#<span class=\"tm-article-reading-time__label\"> 3 мин </span>\n",
    "read_time=soup.find('span', {'class': re.compile(r'tm-article-reading-time__label')}).text.strip()\n",
    "di['Время чтения']=read_time #добавляем в словарь\n",
    "read_time"
   ]
  },
  {
   "cell_type": "code",
   "execution_count": 8,
   "id": "c4373625",
   "metadata": {},
   "outputs": [
    {
     "data": {
      "text/plain": [
       "'Простой'"
      ]
     },
     "execution_count": 8,
     "metadata": {},
     "output_type": "execute_result"
    }
   ],
   "source": [
    "#ищем уровень сложности статьи \n",
    "#<span class=\"tm-article-complexity__label\">Простой</span>\n",
    "\n",
    "complexity=soup.find('span', {'class': 'tm-article-complexity__label'}).text.strip()\n",
    "di['Сложность']=complexity #добавляем в словарь\n",
    "complexity"
   ]
  },
  {
   "cell_type": "code",
   "execution_count": 9,
   "id": "22ebd8ec",
   "metadata": {},
   "outputs": [
    {
     "data": {
      "text/plain": [
       "'6.6K'"
      ]
     },
     "execution_count": 9,
     "metadata": {},
     "output_type": "execute_result"
    }
   ],
   "source": [
    "#ищем количество просмотров статьи \n",
    "#<span class=\"tm-icon-counter__value\">3.2K</span>\n",
    "views=soup.find('span', {'class': 'tm-icon-counter__value'}).text.strip()\n",
    "di['Количество просмотров']=views #добавляем в словарь\n",
    "views"
   ]
  },
  {
   "cell_type": "code",
   "execution_count": 10,
   "id": "1c0c6575",
   "metadata": {},
   "outputs": [
    {
     "data": {
      "text/plain": [
       "'34'"
      ]
     },
     "execution_count": 10,
     "metadata": {},
     "output_type": "execute_result"
    }
   ],
   "source": [
    "#ищем количество сохранений\n",
    "#<span title=\"Количество пользователей, добавивших публикацию в закладки\" class=\"bookmarks-button__counter\"> 22 </span>\n",
    "saved=soup.find('span', {'class': 'bookmarks-button__counter'}).text.strip()\n",
    "di['В закладках']=saved #добавляем в словарь\n",
    "saved"
   ]
  },
  {
   "cell_type": "code",
   "execution_count": 11,
   "id": "0f31c61e",
   "metadata": {},
   "outputs": [
    {
     "data": {
      "text/plain": [
       "'11'"
      ]
     },
     "execution_count": 11,
     "metadata": {},
     "output_type": "execute_result"
    }
   ],
   "source": [
    "#ищем количество комментариев\n",
    "#<span class=\"tm-article-comments-counter-link__value\">6  </span>\n",
    "comments=soup.find('span', {'class': 'tm-article-comments-counter-link__value'}).text.strip()\n",
    "di['Комментарии']=comments #добавляем в словарь\n",
    "comments"
   ]
  },
  {
   "cell_type": "code",
   "execution_count": 12,
   "id": "1d64b1e7",
   "metadata": {},
   "outputs": [
    {
     "data": {
      "text/plain": [
       "'@gag_fenix'"
      ]
     },
     "execution_count": 12,
     "metadata": {},
     "output_type": "execute_result"
    }
   ],
   "source": [
    "# имя пользователя\n",
    "#<a href=\"/ru/users/gag_fenix/\" \n",
    "#class=\"tm-user-card__nickname tm-user-card__nickname tm-user-card__nickname_variant-article\">\n",
    "         # @gag_fenix </a>\n",
    "author_name=soup.find('a', {'class': 'tm-user-card__nickname tm-user-card__nickname tm-user-card__nickname_variant-article'}).text.strip()\n",
    "di['Автор']=author_name #добавляем в словарь\n",
    "author_name"
   ]
  },
  {
   "cell_type": "code",
   "execution_count": 13,
   "id": "7dd31ff0",
   "metadata": {},
   "outputs": [
    {
     "data": {
      "text/plain": [
       "'31.1'"
      ]
     },
     "execution_count": 13,
     "metadata": {},
     "output_type": "execute_result"
    }
   ],
   "source": [
    "#<span class=\"tm-votes-lever__score-counter tm-votes-lever__score-counter tm-votes-lever__score-counter_rating\">\n",
    "      #  24\n",
    "     # </span>\n",
    "author_rate=soup.find('span', {'class': 'tm-votes-lever__score-counter tm-votes-lever__score-counter tm-votes-lever__score-counter_rating'}).text.strip()\n",
    "di['Рейтинг автора']=author_rate #добавляем в словарь\n",
    "author_rate"
   ]
  },
  {
   "cell_type": "code",
   "execution_count": 16,
   "id": "ea3a2fac",
   "metadata": {},
   "outputs": [
    {
     "data": {
      "text/plain": [
       "'2023-05-12, 14:26'"
      ]
     },
     "execution_count": 16,
     "metadata": {},
     "output_type": "execute_result"
    }
   ],
   "source": [
    "# время публикации\n",
    "#<time datetime=\"2023-05-12T11:26:10.000Z\" title=\"2023-05-12, 14:26\">9 часов назад</time>\n",
    "publish_time=soup.time.get('title')\n",
    "di['Время публикации']=publish_time #добавляем в словарь\n",
    "publish_time"
   ]
  },
  {
   "cell_type": "markdown",
   "id": "b3e6f965",
   "metadata": {},
   "source": [
    "Поняли как вытаскивать признаки, теперь можно сделать это для всех объектов"
   ]
  },
  {
   "cell_type": "code",
   "execution_count": 17,
   "id": "9d1995b8",
   "metadata": {},
   "outputs": [],
   "source": [
    "# функция для каждой статьи\n",
    "def parse_one_item(soup):\n",
    "    di={}\n",
    "    read_time=soup.find('span', {'class': re.compile(r'tm-article-reading-time__label')}).text.strip()\n",
    "    di['Время чтения']=read_time\n",
    "    if (soup.find('span', {'class': 'tm-article-complexity__label'})) is not None:\n",
    "        complexity=soup.find('span', {'class': 'tm-article-complexity__label'}).text.strip()\n",
    "        di['Сложность']=complexity\n",
    "    else:\n",
    "        di['Сложность']=None\n",
    "    views=soup.find('span', {'class': 'tm-icon-counter__value'}).text.strip()\n",
    "    di['Количество просмотров']=views\n",
    "    saved=soup.find('span', {'class': 'bookmarks-button__counter'}).text.strip()\n",
    "    di['В закладках']=saved\n",
    "    comments=soup.find('span', {'class': 'tm-article-comments-counter-link__value'}).text.strip()\n",
    "    di['Комментарии']=comments\n",
    "    if soup.find('a', {'class': 'tm-user-card__nickname tm-user-card__nickname tm-user-card__nickname_variant-article'})is not None:\n",
    "        author_name=soup.find('a', {'class': 'tm-user-card__nickname tm-user-card__nickname tm-user-card__nickname_variant-article'}).text.strip()\n",
    "        di['Автор']=author_name\n",
    "    else:\n",
    "        di['Автор']=None\n",
    "    if soup.find('span', {'class': 'tm-votes-lever__score-counter tm-votes-lever__score-counter tm-votes-lever__score-counter_rating'}) is not None:\n",
    "        author_rate=soup.find('span', {'class': 'tm-votes-lever__score-counter tm-votes-lever__score-counter tm-votes-lever__score-counter_rating'}).text.strip()\n",
    "        di['Рейтинг автора']=author_rate\n",
    "    else:\n",
    "        di['Рейтинг автора']=None\n",
    "    publish_time=soup.time.get('title')\n",
    "    di['Время публикации']=publish_time\n",
    "    return di"
   ]
  },
  {
   "cell_type": "code",
   "execution_count": 19,
   "id": "a644f364",
   "metadata": {},
   "outputs": [
    {
     "data": {
      "text/plain": [
       "{'Время чтения': '3 мин',\n",
       " 'Сложность': 'Простой',\n",
       " 'Количество просмотров': '2K',\n",
       " 'В закладках': '19',\n",
       " 'Комментарии': '0',\n",
       " 'Автор': '@wiseplat',\n",
       " 'Рейтинг автора': '-6.9',\n",
       " 'Время публикации': '2023-05-12, 21:42'}"
      ]
     },
     "execution_count": 19,
     "metadata": {},
     "output_type": "execute_result"
    }
   ],
   "source": [
    "# проверим работу функции для одной рандомной статьи\n",
    "response = requests.get('https://habr.com/ru/articles/734806/')\n",
    "soup = bs(response.content, 'html.parser')\n",
    "parse_one_item(soup)"
   ]
  },
  {
   "cell_type": "code",
   "execution_count": 20,
   "id": "b23442a4",
   "metadata": {},
   "outputs": [
    {
     "data": {
      "application/vnd.jupyter.widget-view+json": {
       "model_id": "650ed8cf83974fb1aad158ba7190934e",
       "version_major": 2,
       "version_minor": 0
      },
      "text/plain": [
       "  0%|          | 0/1000 [00:00<?, ?it/s]"
      ]
     },
     "metadata": {},
     "output_type": "display_data"
    }
   ],
   "source": [
    "# берем базовую часть ссылки, которая есть у каждой статьи\n",
    "base_url = 'https://habr.com'\n",
    "for item_url in tqdm(d): # в цикле для ссылки каждой статьи\n",
    "    url = base_url+item_url # прибавляем базовую часть ссылки к конкретной, чтобы попасть на конкретную страницу \n",
    "    response = requests.get(url)\n",
    "    soup = bs(response.content, 'html.parser')\n",
    "    results = parse_one_item(soup) #применяем к конкретной статье функцию\n",
    "    d[item_url].update(results) # добавляем подробную информацию о статье в существующий словарь\n",
    "pd.DataFrame(d).T.to_csv('habr_data.csv') #создаем таблицу"
   ]
  },
  {
   "cell_type": "markdown",
   "id": "8e5910e0",
   "metadata": {},
   "source": [
    "Ура! Мы собрали все данные, теперь будет работать с файлом habr_data.csv"
   ]
  }
 ],
 "metadata": {
  "kernelspec": {
   "display_name": "Python 3 (ipykernel)",
   "language": "python",
   "name": "python3"
  },
  "language_info": {
   "codemirror_mode": {
    "name": "ipython",
    "version": 3
   },
   "file_extension": ".py",
   "mimetype": "text/x-python",
   "name": "python",
   "nbconvert_exporter": "python",
   "pygments_lexer": "ipython3",
   "version": "3.9.7"
  }
 },
 "nbformat": 4,
 "nbformat_minor": 5
}
